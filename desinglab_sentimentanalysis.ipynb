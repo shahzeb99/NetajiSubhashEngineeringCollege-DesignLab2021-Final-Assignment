{
  "nbformat": 4,
  "nbformat_minor": 0,
  "metadata": {
    "colab": {
      "name": "Untitled6.ipynb",
      "provenance": []
    },
    "kernelspec": {
      "name": "python3",
      "display_name": "Python 3"
    },
    "language_info": {
      "name": "python"
    }
  },
  "cells": [
    {
      "cell_type": "code",
      "metadata": {
        "colab": {
          "resources": {
            "http://localhost:8080/nbextensions/google.colab/files.js": {
              "data": "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",
              "ok": true,
              "headers": [
                [
                  "content-type",
                  "application/javascript"
                ]
              ],
              "status": 200,
              "status_text": ""
            }
          },
          "base_uri": "https://localhost:8080/",
          "height": 73
        },
        "id": "5MvL6tRZA96b",
        "outputId": "d9381ba1-6ff1-4adc-fed8-7ef9b9adda6a"
      },
      "source": [
        "from google.colab import files\n",
        "uploaded=files.upload()\n"
      ],
      "execution_count": null,
      "outputs": [
        {
          "output_type": "display_data",
          "data": {
            "text/html": [
              "\n",
              "     <input type=\"file\" id=\"files-efc2f871-5a7c-4985-a621-2d945ac62659\" name=\"files[]\" multiple disabled\n",
              "        style=\"border:none\" />\n",
              "     <output id=\"result-efc2f871-5a7c-4985-a621-2d945ac62659\">\n",
              "      Upload widget is only available when the cell has been executed in the\n",
              "      current browser session. Please rerun this cell to enable.\n",
              "      </output>\n",
              "      <script src=\"/nbextensions/google.colab/files.js\"></script> "
            ],
            "text/plain": [
              "<IPython.core.display.HTML object>"
            ]
          },
          "metadata": {
            "tags": []
          }
        },
        {
          "output_type": "stream",
          "text": [
            "Saving data.csv to data.csv\n"
          ],
          "name": "stdout"
        }
      ]
    },
    {
      "cell_type": "code",
      "metadata": {
        "id": "NY-L7IzoBJlI"
      },
      "source": [
        "import numpy as np\n",
        "import pandas as pd\n",
        "import matplotlib.pyplot as plt\n",
        "import seaborn as sns\n",
        "\n",
        "import re\n",
        "import nltk\n",
        "from nltk.corpus import stopwords\n",
        "\n",
        "import datetime\n",
        "\n",
        "from sklearn.model_selection import train_test_split\n",
        "from sklearn.feature_extraction.text import TfidfVectorizer\n",
        "from sklearn import metrics\n",
        "from sklearn.metrics import accuracy_score, classification_report\n",
        "from sklearn.tree import DecisionTreeClassifier\n",
        "from sklearn.naive_bayes import MultinomialNB\n",
        "from sklearn.ensemble import RandomForestClassifier\n",
        "from sklearn.neighbors import KNeighborsClassifier\n",
        "from sklearn.linear_model import LogisticRegression\n",
        "\n",
        "from keras.preprocessing.sequence import pad_sequences\n",
        "from keras.models import Model\n",
        "from keras.preprocessing.text import Tokenizer\n",
        "from keras.layers import Dense, Dropout, Reshape, Flatten, concatenate, Input, Conv1D, GlobalMaxPooling1D, Embedding"
      ],
      "execution_count": null,
      "outputs": []
    },
    {
      "cell_type": "code",
      "metadata": {
        "id": "Vpw5QhT1BRBD"
      },
      "source": [
        "#get the data\n",
        "data = pd.read_csv('data.csv')"
      ],
      "execution_count": null,
      "outputs": []
    },
    {
      "cell_type": "code",
      "metadata": {
        "colab": {
          "base_uri": "https://localhost:8080/",
          "height": 206
        },
        "id": "4Z9ZEMIiBXnz",
        "outputId": "edf0371c-6dc8-4a20-a84b-7e7d04af14ab"
      },
      "source": [
        "data.head()"
      ],
      "execution_count": null,
      "outputs": [
        {
          "output_type": "execute_result",
          "data": {
            "text/html": [
              "<div>\n",
              "<style scoped>\n",
              "    .dataframe tbody tr th:only-of-type {\n",
              "        vertical-align: middle;\n",
              "    }\n",
              "\n",
              "    .dataframe tbody tr th {\n",
              "        vertical-align: top;\n",
              "    }\n",
              "\n",
              "    .dataframe thead th {\n",
              "        text-align: right;\n",
              "    }\n",
              "</style>\n",
              "<table border=\"1\" class=\"dataframe\">\n",
              "  <thead>\n",
              "    <tr style=\"text-align: right;\">\n",
              "      <th></th>\n",
              "      <th>source</th>\n",
              "      <th>Rating</th>\n",
              "      <th>ReviewText</th>\n",
              "      <th>PUBLISH_TS</th>\n",
              "      <th>organisation</th>\n",
              "    </tr>\n",
              "  </thead>\n",
              "  <tbody>\n",
              "    <tr>\n",
              "      <th>0</th>\n",
              "      <td>google</td>\n",
              "      <td>3 stars</td>\n",
              "      <td>NaN</td>\n",
              "      <td>2020-01-18 15:03:56.791524</td>\n",
              "      <td>ibis saint martin</td>\n",
              "    </tr>\n",
              "    <tr>\n",
              "      <th>1</th>\n",
              "      <td>google</td>\n",
              "      <td>5 stars</td>\n",
              "      <td>Good hotel, not close to the sites of interest...</td>\n",
              "      <td>2020-01-18 15:03:56.791590</td>\n",
              "      <td>ibis saint martin</td>\n",
              "    </tr>\n",
              "    <tr>\n",
              "      <th>2</th>\n",
              "      <td>google</td>\n",
              "      <td>5 stars</td>\n",
              "      <td>Nice budget hotel for your stay in Paris..</td>\n",
              "      <td>2020-09-19 15:03:56.791618</td>\n",
              "      <td>ibis saint martin</td>\n",
              "    </tr>\n",
              "    <tr>\n",
              "      <th>3</th>\n",
              "      <td>google</td>\n",
              "      <td>5 stars</td>\n",
              "      <td>I was in Paris from 8 to 13 August at this fac...</td>\n",
              "      <td>2019-01-18 15:03:56.791656</td>\n",
              "      <td>ibis saint martin</td>\n",
              "    </tr>\n",
              "    <tr>\n",
              "      <th>4</th>\n",
              "      <td>google</td>\n",
              "      <td>1 stars</td>\n",
              "      <td>I stayed there for 3 nights. Besides the poor ...</td>\n",
              "      <td>2020-08-20 15:03:56.791677</td>\n",
              "      <td>ibis saint martin</td>\n",
              "    </tr>\n",
              "  </tbody>\n",
              "</table>\n",
              "</div>"
            ],
            "text/plain": [
              "   source   Rating  ...                  PUBLISH_TS       organisation\n",
              "0  google  3 stars  ...  2020-01-18 15:03:56.791524  ibis saint martin\n",
              "1  google  5 stars  ...  2020-01-18 15:03:56.791590  ibis saint martin\n",
              "2  google  5 stars  ...  2020-09-19 15:03:56.791618  ibis saint martin\n",
              "3  google  5 stars  ...  2019-01-18 15:03:56.791656  ibis saint martin\n",
              "4  google  1 stars  ...  2020-08-20 15:03:56.791677  ibis saint martin\n",
              "\n",
              "[5 rows x 5 columns]"
            ]
          },
          "metadata": {
            "tags": []
          },
          "execution_count": 4
        }
      ]
    },
    {
      "cell_type": "code",
      "metadata": {
        "colab": {
          "base_uri": "https://localhost:8080/"
        },
        "id": "kmp65gA4BcGA",
        "outputId": "0ef49dc6-bf9a-4328-feea-b586fbcb62f7"
      },
      "source": [
        "data.info()"
      ],
      "execution_count": null,
      "outputs": [
        {
          "output_type": "stream",
          "text": [
            "<class 'pandas.core.frame.DataFrame'>\n",
            "RangeIndex: 2322 entries, 0 to 2321\n",
            "Data columns (total 5 columns):\n",
            " #   Column        Non-Null Count  Dtype \n",
            "---  ------        --------------  ----- \n",
            " 0   source        2322 non-null   object\n",
            " 1   Rating        2170 non-null   object\n",
            " 2   ReviewText    1622 non-null   object\n",
            " 3   PUBLISH_TS    2322 non-null   object\n",
            " 4   organisation  2322 non-null   object\n",
            "dtypes: object(5)\n",
            "memory usage: 90.8+ KB\n"
          ],
          "name": "stdout"
        }
      ]
    },
    {
      "cell_type": "code",
      "metadata": {
        "colab": {
          "base_uri": "https://localhost:8080/"
        },
        "id": "wbBWNkiHBjA3",
        "outputId": "782370f8-2e06-482b-be7a-31bb2a238f48"
      },
      "source": [
        "data.shape"
      ],
      "execution_count": null,
      "outputs": [
        {
          "output_type": "execute_result",
          "data": {
            "text/plain": [
              "(2322, 5)"
            ]
          },
          "metadata": {
            "tags": []
          },
          "execution_count": 6
        }
      ]
    },
    {
      "cell_type": "code",
      "metadata": {
        "colab": {
          "base_uri": "https://localhost:8080/"
        },
        "id": "EXf8gZKoBnXm",
        "outputId": "844e2600-fd71-48ac-e404-96d97ac9e33d"
      },
      "source": [
        "data.isnull().sum(axis = 0)"
      ],
      "execution_count": null,
      "outputs": [
        {
          "output_type": "execute_result",
          "data": {
            "text/plain": [
              "source            0\n",
              "Rating          152\n",
              "ReviewText      700\n",
              "PUBLISH_TS        0\n",
              "organisation      0\n",
              "dtype: int64"
            ]
          },
          "metadata": {
            "tags": []
          },
          "execution_count": 7
        }
      ]
    },
    {
      "cell_type": "code",
      "metadata": {
        "id": "EZFgwJmhCDOE"
      },
      "source": [
        "data.dropna(inplace=True)"
      ],
      "execution_count": null,
      "outputs": []
    },
    {
      "cell_type": "code",
      "metadata": {
        "colab": {
          "base_uri": "https://localhost:8080/"
        },
        "id": "Lrp5IM-ICFwa",
        "outputId": "91ae496e-097e-4199-9d89-912dfe0731a4"
      },
      "source": [
        "data.Rating.value_counts()"
      ],
      "execution_count": null,
      "outputs": [
        {
          "output_type": "execute_result",
          "data": {
            "text/plain": [
              "4 stars    551\n",
              "3 stars    359\n",
              "5 stars    340\n",
              "2 stars    128\n",
              "1 stars     92\n",
              "Name: Rating, dtype: int64"
            ]
          },
          "metadata": {
            "tags": []
          },
          "execution_count": 9
        }
      ]
    },
    {
      "cell_type": "code",
      "metadata": {
        "colab": {
          "base_uri": "https://localhost:8080/"
        },
        "id": "QVYk8ppjCOxQ",
        "outputId": "d445a5f7-8e09-4e4a-82c2-3d2fe7e3c61e"
      },
      "source": [
        "data.shape"
      ],
      "execution_count": null,
      "outputs": [
        {
          "output_type": "execute_result",
          "data": {
            "text/plain": [
              "(1470, 5)"
            ]
          },
          "metadata": {
            "tags": []
          },
          "execution_count": 10
        }
      ]
    },
    {
      "cell_type": "code",
      "metadata": {
        "colab": {
          "base_uri": "https://localhost:8080/",
          "height": 206
        },
        "id": "nS4ChxeTCZJZ",
        "outputId": "5731c334-61c1-40dc-bb0c-d1c803e27f39"
      },
      "source": [
        "mod_data = data.iloc[:,1:3]\n",
        "\n",
        "mod_data.head()"
      ],
      "execution_count": null,
      "outputs": [
        {
          "output_type": "execute_result",
          "data": {
            "text/html": [
              "<div>\n",
              "<style scoped>\n",
              "    .dataframe tbody tr th:only-of-type {\n",
              "        vertical-align: middle;\n",
              "    }\n",
              "\n",
              "    .dataframe tbody tr th {\n",
              "        vertical-align: top;\n",
              "    }\n",
              "\n",
              "    .dataframe thead th {\n",
              "        text-align: right;\n",
              "    }\n",
              "</style>\n",
              "<table border=\"1\" class=\"dataframe\">\n",
              "  <thead>\n",
              "    <tr style=\"text-align: right;\">\n",
              "      <th></th>\n",
              "      <th>Rating</th>\n",
              "      <th>ReviewText</th>\n",
              "    </tr>\n",
              "  </thead>\n",
              "  <tbody>\n",
              "    <tr>\n",
              "      <th>1</th>\n",
              "      <td>5 stars</td>\n",
              "      <td>Good hotel, not close to the sites of interest...</td>\n",
              "    </tr>\n",
              "    <tr>\n",
              "      <th>2</th>\n",
              "      <td>5 stars</td>\n",
              "      <td>Nice budget hotel for your stay in Paris..</td>\n",
              "    </tr>\n",
              "    <tr>\n",
              "      <th>3</th>\n",
              "      <td>5 stars</td>\n",
              "      <td>I was in Paris from 8 to 13 August at this fac...</td>\n",
              "    </tr>\n",
              "    <tr>\n",
              "      <th>4</th>\n",
              "      <td>1 stars</td>\n",
              "      <td>I stayed there for 3 nights. Besides the poor ...</td>\n",
              "    </tr>\n",
              "    <tr>\n",
              "      <th>5</th>\n",
              "      <td>1 stars</td>\n",
              "      <td>Attention half mouth. Very expensive room. Tin...</td>\n",
              "    </tr>\n",
              "  </tbody>\n",
              "</table>\n",
              "</div>"
            ],
            "text/plain": [
              "    Rating                                         ReviewText\n",
              "1  5 stars  Good hotel, not close to the sites of interest...\n",
              "2  5 stars         Nice budget hotel for your stay in Paris..\n",
              "3  5 stars  I was in Paris from 8 to 13 August at this fac...\n",
              "4  1 stars  I stayed there for 3 nights. Besides the poor ...\n",
              "5  1 stars  Attention half mouth. Very expensive room. Tin..."
            ]
          },
          "metadata": {
            "tags": []
          },
          "execution_count": 11
        }
      ]
    },
    {
      "cell_type": "code",
      "metadata": {
        "id": "Gvnjx26gOQkt"
      },
      "source": [
        "# Remove Units from Value List\n",
        "mod_data['Rating'] = mod_data['Rating'].map(lambda x: str(x)[:1:])"
      ],
      "execution_count": null,
      "outputs": []
    },
    {
      "cell_type": "code",
      "metadata": {
        "colab": {
          "base_uri": "https://localhost:8080/"
        },
        "id": "2xahG08TClwX",
        "outputId": "f33799f2-1bc7-4748-fdfe-f59bcc069bb1"
      },
      "source": [
        "print(mod_data)"
      ],
      "execution_count": null,
      "outputs": [
        {
          "output_type": "stream",
          "text": [
            "     Rating                                         ReviewText\n",
            "1         5  Good hotel, not close to the sites of interest...\n",
            "2         5         Nice budget hotel for your stay in Paris..\n",
            "3         5  I was in Paris from 8 to 13 August at this fac...\n",
            "4         1  I stayed there for 3 nights. Besides the poor ...\n",
            "5         1  Attention half mouth. Very expensive room. Tin...\n",
            "...     ...                                                ...\n",
            "2317      4  We stayed for 4 nights, its a nice hotel, very...\n",
            "2318      1  We were robbed $300 at this hotel and staff de...\n",
            "2319      3  We chose this hotel for the comparatively reas...\n",
            "2320      3  We travel often between France and England, an...\n",
            "2321      1  Me and my girlfriend stayed at the hotel from ...\n",
            "\n",
            "[1470 rows x 2 columns]\n"
          ],
          "name": "stdout"
        }
      ]
    },
    {
      "cell_type": "code",
      "metadata": {
        "colab": {
          "base_uri": "https://localhost:8080/"
        },
        "id": "RJtVi6ksCuNs",
        "outputId": "761ac478-b173-4fd7-d84a-f731151923f2"
      },
      "source": [
        "# create the label\n",
        "mod_data[\"Label\"] = mod_data[\"Rating\"].apply(lambda x: 3 if x < str(3)\n",
        "                                             else (6 if x < str(5) else 8))"
      ],
      "execution_count": null,
      "outputs": [
        {
          "output_type": "stream",
          "text": [
            "/usr/local/lib/python3.7/dist-packages/ipykernel_launcher.py:2: SettingWithCopyWarning: \n",
            "A value is trying to be set on a copy of a slice from a DataFrame.\n",
            "Try using .loc[row_indexer,col_indexer] = value instead\n",
            "\n",
            "See the caveats in the documentation: https://pandas.pydata.org/pandas-docs/stable/user_guide/indexing.html#returning-a-view-versus-a-copy\n",
            "  \n"
          ],
          "name": "stderr"
        }
      ]
    },
    {
      "cell_type": "code",
      "metadata": {
        "colab": {
          "base_uri": "https://localhost:8080/"
        },
        "id": "-nTOURmbCxmW",
        "outputId": "974b76e8-013a-4500-bf27-760cb065e267"
      },
      "source": [
        "print(mod_data)\n",
        "df = mod_data.iloc[:,1:3]"
      ],
      "execution_count": null,
      "outputs": [
        {
          "output_type": "stream",
          "text": [
            "     Rating                                         ReviewText  Label\n",
            "1         5  Good hotel, not close to the sites of interest...      8\n",
            "2         5         Nice budget hotel for your stay in Paris..      8\n",
            "3         5  I was in Paris from 8 to 13 August at this fac...      8\n",
            "4         1  I stayed there for 3 nights. Besides the poor ...      3\n",
            "5         1  Attention half mouth. Very expensive room. Tin...      3\n",
            "...     ...                                                ...    ...\n",
            "2317      4  We stayed for 4 nights, its a nice hotel, very...      6\n",
            "2318      1  We were robbed $300 at this hotel and staff de...      3\n",
            "2319      3  We chose this hotel for the comparatively reas...      6\n",
            "2320      3  We travel often between France and England, an...      6\n",
            "2321      1  Me and my girlfriend stayed at the hotel from ...      3\n",
            "\n",
            "[1470 rows x 3 columns]\n"
          ],
          "name": "stdout"
        }
      ]
    },
    {
      "cell_type": "code",
      "metadata": {
        "colab": {
          "base_uri": "https://localhost:8080/"
        },
        "id": "ylhcn1YKCz-W",
        "outputId": "69d1a3a1-621d-4ecd-9619-f38752b873cf"
      },
      "source": [
        "print(mod_data.ReviewText)"
      ],
      "execution_count": null,
      "outputs": [
        {
          "output_type": "stream",
          "text": [
            "1       Good hotel, not close to the sites of interest...\n",
            "2              Nice budget hotel for your stay in Paris..\n",
            "3       I was in Paris from 8 to 13 August at this fac...\n",
            "4       I stayed there for 3 nights. Besides the poor ...\n",
            "5       Attention half mouth. Very expensive room. Tin...\n",
            "                              ...                        \n",
            "2317    We stayed for 4 nights, its a nice hotel, very...\n",
            "2318    We were robbed $300 at this hotel and staff de...\n",
            "2319    We chose this hotel for the comparatively reas...\n",
            "2320    We travel often between France and England, an...\n",
            "2321    Me and my girlfriend stayed at the hotel from ...\n",
            "Name: ReviewText, Length: 1470, dtype: object\n"
          ],
          "name": "stdout"
        }
      ]
    },
    {
      "cell_type": "code",
      "metadata": {
        "colab": {
          "base_uri": "https://localhost:8080/"
        },
        "id": "DHtnRMSkC48m",
        "outputId": "4ac07bde-ee65-4c44-c9ac-e54ea8d9adf5"
      },
      "source": [
        "type(mod_data.ReviewText)\n",
        "dummy_df = mod_data\n",
        "print(dummy_df.ReviewText[1])"
      ],
      "execution_count": null,
      "outputs": [
        {
          "output_type": "stream",
          "text": [
            "Good hotel, not close to the sites of interest, but it is very easy to move in the subway, for a nearby station, good price.\n"
          ],
          "name": "stdout"
        }
      ]
    },
    {
      "cell_type": "code",
      "metadata": {
        "id": "i_8Qf5qeC7K8"
      },
      "source": [
        "# dummy_df = dummy_df.astype({\"ReviewText\":'String'})"
      ],
      "execution_count": null,
      "outputs": []
    },
    {
      "cell_type": "code",
      "metadata": {
        "colab": {
          "base_uri": "https://localhost:8080/"
        },
        "id": "PaYAgKiyC_gH",
        "outputId": "bf165d3f-05d0-48ad-96b8-5792db0a1a24"
      },
      "source": [
        "nltk.download('punkt')"
      ],
      "execution_count": null,
      "outputs": [
        {
          "output_type": "stream",
          "text": [
            "[nltk_data] Downloading package punkt to /root/nltk_data...\n",
            "[nltk_data]   Unzipping tokenizers/punkt.zip.\n"
          ],
          "name": "stdout"
        },
        {
          "output_type": "execute_result",
          "data": {
            "text/plain": [
              "True"
            ]
          },
          "metadata": {
            "tags": []
          },
          "execution_count": 19
        }
      ]
    },
    {
      "cell_type": "code",
      "metadata": {
        "colab": {
          "base_uri": "https://localhost:8080/"
        },
        "id": "vvZnF1F3DILK",
        "outputId": "c508bc71-1cc7-449a-ac61-c6fad51b7417"
      },
      "source": [
        " from nltk.tokenize import word_tokenize\n",
        "\n",
        "# for row in range(0,len(dummy_df.index)):\n",
        "#   tokens = word_tokenize(str(dummy_df.ReviewText[:row]))\n",
        "#   dummy_df.ReviewText[row] = tokens\n",
        "\n",
        "# def createTokens(dataset):\n",
        "#   for row in range(1,1470):\n",
        "#   #  print(row)\n",
        "#     tokens = word_tokenize(str(dataset.ReviewText[row]))\n",
        "#     dataset.ReviewText[row] = tokens\n",
        "#     print(tokens)\n",
        "\n",
        "dummy_df['tokenized_sents'] = dummy_df.apply(lambda row: word_tokenize(row['ReviewText']), axis=1)"
      ],
      "execution_count": null,
      "outputs": [
        {
          "output_type": "stream",
          "text": [
            "/usr/local/lib/python3.7/dist-packages/ipykernel_launcher.py:14: SettingWithCopyWarning: \n",
            "A value is trying to be set on a copy of a slice from a DataFrame.\n",
            "Try using .loc[row_indexer,col_indexer] = value instead\n",
            "\n",
            "See the caveats in the documentation: https://pandas.pydata.org/pandas-docs/stable/user_guide/indexing.html#returning-a-view-versus-a-copy\n",
            "  \n"
          ],
          "name": "stderr"
        }
      ]
    },
    {
      "cell_type": "code",
      "metadata": {
        "colab": {
          "base_uri": "https://localhost:8080/",
          "height": 363
        },
        "id": "4HdHazGdDLko",
        "outputId": "7454f277-c89c-4c49-9e48-9159c6722640"
      },
      "source": [
        "dummy_df.head(10)"
      ],
      "execution_count": null,
      "outputs": [
        {
          "output_type": "execute_result",
          "data": {
            "text/html": [
              "<div>\n",
              "<style scoped>\n",
              "    .dataframe tbody tr th:only-of-type {\n",
              "        vertical-align: middle;\n",
              "    }\n",
              "\n",
              "    .dataframe tbody tr th {\n",
              "        vertical-align: top;\n",
              "    }\n",
              "\n",
              "    .dataframe thead th {\n",
              "        text-align: right;\n",
              "    }\n",
              "</style>\n",
              "<table border=\"1\" class=\"dataframe\">\n",
              "  <thead>\n",
              "    <tr style=\"text-align: right;\">\n",
              "      <th></th>\n",
              "      <th>Rating</th>\n",
              "      <th>ReviewText</th>\n",
              "      <th>Label</th>\n",
              "      <th>tokenized_sents</th>\n",
              "    </tr>\n",
              "  </thead>\n",
              "  <tbody>\n",
              "    <tr>\n",
              "      <th>1</th>\n",
              "      <td>5</td>\n",
              "      <td>Good hotel, not close to the sites of interest...</td>\n",
              "      <td>8</td>\n",
              "      <td>[Good, hotel, ,, not, close, to, the, sites, o...</td>\n",
              "    </tr>\n",
              "    <tr>\n",
              "      <th>2</th>\n",
              "      <td>5</td>\n",
              "      <td>Nice budget hotel for your stay in Paris..</td>\n",
              "      <td>8</td>\n",
              "      <td>[Nice, budget, hotel, for, your, stay, in, Par...</td>\n",
              "    </tr>\n",
              "    <tr>\n",
              "      <th>3</th>\n",
              "      <td>5</td>\n",
              "      <td>I was in Paris from 8 to 13 August at this fac...</td>\n",
              "      <td>8</td>\n",
              "      <td>[I, was, in, Paris, from, 8, to, 13, August, a...</td>\n",
              "    </tr>\n",
              "    <tr>\n",
              "      <th>4</th>\n",
              "      <td>1</td>\n",
              "      <td>I stayed there for 3 nights. Besides the poor ...</td>\n",
              "      <td>3</td>\n",
              "      <td>[I, stayed, there, for, 3, nights, ., Besides,...</td>\n",
              "    </tr>\n",
              "    <tr>\n",
              "      <th>5</th>\n",
              "      <td>1</td>\n",
              "      <td>Attention half mouth. Very expensive room. Tin...</td>\n",
              "      <td>3</td>\n",
              "      <td>[Attention, half, mouth, ., Very, expensive, r...</td>\n",
              "    </tr>\n",
              "    <tr>\n",
              "      <th>7</th>\n",
              "      <td>4</td>\n",
              "      <td>Very clean,good breakfast,comfort room,many re...</td>\n",
              "      <td>6</td>\n",
              "      <td>[Very, clean, ,, good, breakfast, ,, comfort, ...</td>\n",
              "    </tr>\n",
              "    <tr>\n",
              "      <th>12</th>\n",
              "      <td>2</td>\n",
              "      <td>Very small rooms</td>\n",
              "      <td>3</td>\n",
              "      <td>[Very, small, rooms]</td>\n",
              "    </tr>\n",
              "    <tr>\n",
              "      <th>15</th>\n",
              "      <td>5</td>\n",
              "      <td>Small rooms but very clean and pretty</td>\n",
              "      <td>8</td>\n",
              "      <td>[Small, rooms, but, very, clean, and, pretty]</td>\n",
              "    </tr>\n",
              "    <tr>\n",
              "      <th>16</th>\n",
              "      <td>4</td>\n",
              "      <td>Good clean property but overlooks busy street....</td>\n",
              "      <td>6</td>\n",
              "      <td>[Good, clean, property, but, overlooks, busy, ...</td>\n",
              "    </tr>\n",
              "    <tr>\n",
              "      <th>19</th>\n",
              "      <td>4</td>\n",
              "      <td>Petit dej at the top!</td>\n",
              "      <td>6</td>\n",
              "      <td>[Petit, dej, at, the, top, !]</td>\n",
              "    </tr>\n",
              "  </tbody>\n",
              "</table>\n",
              "</div>"
            ],
            "text/plain": [
              "   Rating  ...                                    tokenized_sents\n",
              "1       5  ...  [Good, hotel, ,, not, close, to, the, sites, o...\n",
              "2       5  ...  [Nice, budget, hotel, for, your, stay, in, Par...\n",
              "3       5  ...  [I, was, in, Paris, from, 8, to, 13, August, a...\n",
              "4       1  ...  [I, stayed, there, for, 3, nights, ., Besides,...\n",
              "5       1  ...  [Attention, half, mouth, ., Very, expensive, r...\n",
              "7       4  ...  [Very, clean, ,, good, breakfast, ,, comfort, ...\n",
              "12      2  ...                               [Very, small, rooms]\n",
              "15      5  ...      [Small, rooms, but, very, clean, and, pretty]\n",
              "16      4  ...  [Good, clean, property, but, overlooks, busy, ...\n",
              "19      4  ...                      [Petit, dej, at, the, top, !]\n",
              "\n",
              "[10 rows x 4 columns]"
            ]
          },
          "metadata": {
            "tags": []
          },
          "execution_count": 21
        }
      ]
    },
    {
      "cell_type": "code",
      "metadata": {
        "colab": {
          "base_uri": "https://localhost:8080/"
        },
        "id": "Tqt-a5rpDOcC",
        "outputId": "17add7ce-281e-4091-ab42-5f26f13ba701"
      },
      "source": [
        "# Removing punctuations\n",
        "dummy_df.tokenized_sents.replace(\"[^a-zA-Z]\",\" \",regex=True, inplace=True)"
      ],
      "execution_count": null,
      "outputs": [
        {
          "output_type": "stream",
          "text": [
            "/usr/local/lib/python3.7/dist-packages/pandas/core/series.py:4582: SettingWithCopyWarning: \n",
            "A value is trying to be set on a copy of a slice from a DataFrame\n",
            "\n",
            "See the caveats in the documentation: https://pandas.pydata.org/pandas-docs/stable/user_guide/indexing.html#returning-a-view-versus-a-copy\n",
            "  method=method,\n"
          ],
          "name": "stderr"
        }
      ]
    },
    {
      "cell_type": "code",
      "metadata": {
        "colab": {
          "base_uri": "https://localhost:8080/",
          "height": 363
        },
        "id": "yuNVbjk9DSkm",
        "outputId": "3427756b-03aa-4d97-cab7-f1e4da92e6bb"
      },
      "source": [
        "dummy_df.head(10)"
      ],
      "execution_count": null,
      "outputs": [
        {
          "output_type": "execute_result",
          "data": {
            "text/html": [
              "<div>\n",
              "<style scoped>\n",
              "    .dataframe tbody tr th:only-of-type {\n",
              "        vertical-align: middle;\n",
              "    }\n",
              "\n",
              "    .dataframe tbody tr th {\n",
              "        vertical-align: top;\n",
              "    }\n",
              "\n",
              "    .dataframe thead th {\n",
              "        text-align: right;\n",
              "    }\n",
              "</style>\n",
              "<table border=\"1\" class=\"dataframe\">\n",
              "  <thead>\n",
              "    <tr style=\"text-align: right;\">\n",
              "      <th></th>\n",
              "      <th>Rating</th>\n",
              "      <th>ReviewText</th>\n",
              "      <th>Label</th>\n",
              "      <th>tokenized_sents</th>\n",
              "    </tr>\n",
              "  </thead>\n",
              "  <tbody>\n",
              "    <tr>\n",
              "      <th>1</th>\n",
              "      <td>5</td>\n",
              "      <td>Good hotel, not close to the sites of interest...</td>\n",
              "      <td>8</td>\n",
              "      <td>[Good, hotel, ,, not, close, to, the, sites, o...</td>\n",
              "    </tr>\n",
              "    <tr>\n",
              "      <th>2</th>\n",
              "      <td>5</td>\n",
              "      <td>Nice budget hotel for your stay in Paris..</td>\n",
              "      <td>8</td>\n",
              "      <td>[Nice, budget, hotel, for, your, stay, in, Par...</td>\n",
              "    </tr>\n",
              "    <tr>\n",
              "      <th>3</th>\n",
              "      <td>5</td>\n",
              "      <td>I was in Paris from 8 to 13 August at this fac...</td>\n",
              "      <td>8</td>\n",
              "      <td>[I, was, in, Paris, from, 8, to, 13, August, a...</td>\n",
              "    </tr>\n",
              "    <tr>\n",
              "      <th>4</th>\n",
              "      <td>1</td>\n",
              "      <td>I stayed there for 3 nights. Besides the poor ...</td>\n",
              "      <td>3</td>\n",
              "      <td>[I, stayed, there, for, 3, nights, ., Besides,...</td>\n",
              "    </tr>\n",
              "    <tr>\n",
              "      <th>5</th>\n",
              "      <td>1</td>\n",
              "      <td>Attention half mouth. Very expensive room. Tin...</td>\n",
              "      <td>3</td>\n",
              "      <td>[Attention, half, mouth, ., Very, expensive, r...</td>\n",
              "    </tr>\n",
              "    <tr>\n",
              "      <th>7</th>\n",
              "      <td>4</td>\n",
              "      <td>Very clean,good breakfast,comfort room,many re...</td>\n",
              "      <td>6</td>\n",
              "      <td>[Very, clean, ,, good, breakfast, ,, comfort, ...</td>\n",
              "    </tr>\n",
              "    <tr>\n",
              "      <th>12</th>\n",
              "      <td>2</td>\n",
              "      <td>Very small rooms</td>\n",
              "      <td>3</td>\n",
              "      <td>[Very, small, rooms]</td>\n",
              "    </tr>\n",
              "    <tr>\n",
              "      <th>15</th>\n",
              "      <td>5</td>\n",
              "      <td>Small rooms but very clean and pretty</td>\n",
              "      <td>8</td>\n",
              "      <td>[Small, rooms, but, very, clean, and, pretty]</td>\n",
              "    </tr>\n",
              "    <tr>\n",
              "      <th>16</th>\n",
              "      <td>4</td>\n",
              "      <td>Good clean property but overlooks busy street....</td>\n",
              "      <td>6</td>\n",
              "      <td>[Good, clean, property, but, overlooks, busy, ...</td>\n",
              "    </tr>\n",
              "    <tr>\n",
              "      <th>19</th>\n",
              "      <td>4</td>\n",
              "      <td>Petit dej at the top!</td>\n",
              "      <td>6</td>\n",
              "      <td>[Petit, dej, at, the, top, !]</td>\n",
              "    </tr>\n",
              "  </tbody>\n",
              "</table>\n",
              "</div>"
            ],
            "text/plain": [
              "   Rating  ...                                    tokenized_sents\n",
              "1       5  ...  [Good, hotel, ,, not, close, to, the, sites, o...\n",
              "2       5  ...  [Nice, budget, hotel, for, your, stay, in, Par...\n",
              "3       5  ...  [I, was, in, Paris, from, 8, to, 13, August, a...\n",
              "4       1  ...  [I, stayed, there, for, 3, nights, ., Besides,...\n",
              "5       1  ...  [Attention, half, mouth, ., Very, expensive, r...\n",
              "7       4  ...  [Very, clean, ,, good, breakfast, ,, comfort, ...\n",
              "12      2  ...                               [Very, small, rooms]\n",
              "15      5  ...      [Small, rooms, but, very, clean, and, pretty]\n",
              "16      4  ...  [Good, clean, property, but, overlooks, busy, ...\n",
              "19      4  ...                      [Petit, dej, at, the, top, !]\n",
              "\n",
              "[10 rows x 4 columns]"
            ]
          },
          "metadata": {
            "tags": []
          },
          "execution_count": 23
        }
      ]
    },
    {
      "cell_type": "code",
      "metadata": {
        "id": "FwhyXpPEOls2"
      },
      "source": [
        ""
      ],
      "execution_count": null,
      "outputs": []
    },
    {
      "cell_type": "code",
      "metadata": {
        "colab": {
          "base_uri": "https://localhost:8080/"
        },
        "id": "hXPS0o6wDbU0",
        "outputId": "ed25e88b-a424-4eaa-90b8-2a81624fcd55"
      },
      "source": [
        "nltk.download('vader_lexicon')"
      ],
      "execution_count": null,
      "outputs": [
        {
          "output_type": "stream",
          "text": [
            "[nltk_data] Downloading package vader_lexicon to /root/nltk_data...\n",
            "[nltk_data]   Package vader_lexicon is already up-to-date!\n"
          ],
          "name": "stdout"
        },
        {
          "output_type": "execute_result",
          "data": {
            "text/plain": [
              "True"
            ]
          },
          "metadata": {
            "tags": []
          },
          "execution_count": 26
        }
      ]
    },
    {
      "cell_type": "code",
      "metadata": {
        "id": "ri4Sab1SD1ys"
      },
      "source": [
        "from nltk.sentiment.vader import SentimentIntensityAnalyzer\n",
        "vader = SentimentIntensityAnalyzer()"
      ],
      "execution_count": null,
      "outputs": []
    },
    {
      "cell_type": "code",
      "metadata": {
        "colab": {
          "base_uri": "https://localhost:8080/"
        },
        "id": "oh9hNWKKD6yG",
        "outputId": "d4a059e7-06ca-4c5d-f617-a273a0d85586"
      },
      "source": [
        "vader.polarity_scores(\"Good hotel, not close to the sites of interest, but it is very easy to move in the subway, for a nearby station, good price.\")"
      ],
      "execution_count": null,
      "outputs": [
        {
          "output_type": "execute_result",
          "data": {
            "text/plain": [
              "{'compound': 0.902, 'neg': 0.0, 'neu': 0.623, 'pos': 0.377}"
            ]
          },
          "metadata": {
            "tags": []
          },
          "execution_count": 28
        }
      ]
    },
    {
      "cell_type": "code",
      "metadata": {
        "id": "wxwhobDtEIQ5"
      },
      "source": [
        "dummy_df['output'] = dummy_df.apply(lambda row: vader.polarity_scores(row['ReviewText'])['compound'], axis=1)"
      ],
      "execution_count": 60,
      "outputs": []
    },
    {
      "cell_type": "code",
      "metadata": {
        "colab": {
          "base_uri": "https://localhost:8080/",
          "height": 363
        },
        "id": "eTaj0JSDtTAi",
        "outputId": "bbeb14bb-0808-4e54-b527-c6271eae6046"
      },
      "source": [
        "dummy_df.head(10)"
      ],
      "execution_count": 61,
      "outputs": [
        {
          "output_type": "execute_result",
          "data": {
            "text/html": [
              "<div>\n",
              "<style scoped>\n",
              "    .dataframe tbody tr th:only-of-type {\n",
              "        vertical-align: middle;\n",
              "    }\n",
              "\n",
              "    .dataframe tbody tr th {\n",
              "        vertical-align: top;\n",
              "    }\n",
              "\n",
              "    .dataframe thead th {\n",
              "        text-align: right;\n",
              "    }\n",
              "</style>\n",
              "<table border=\"1\" class=\"dataframe\">\n",
              "  <thead>\n",
              "    <tr style=\"text-align: right;\">\n",
              "      <th></th>\n",
              "      <th>ReviewText</th>\n",
              "      <th>tokenized_sents</th>\n",
              "      <th>Labels</th>\n",
              "      <th>output</th>\n",
              "    </tr>\n",
              "  </thead>\n",
              "  <tbody>\n",
              "    <tr>\n",
              "      <th>1</th>\n",
              "      <td>Good hotel, not close to the sites of interest...</td>\n",
              "      <td>[Good, hotel, ,, not, close, to, the, sites, o...</td>\n",
              "      <td>8</td>\n",
              "      <td>0.9020</td>\n",
              "    </tr>\n",
              "    <tr>\n",
              "      <th>2</th>\n",
              "      <td>Nice budget hotel for your stay in Paris..</td>\n",
              "      <td>[Nice, budget, hotel, for, your, stay, in, Par...</td>\n",
              "      <td>8</td>\n",
              "      <td>0.4215</td>\n",
              "    </tr>\n",
              "    <tr>\n",
              "      <th>3</th>\n",
              "      <td>I was in Paris from 8 to 13 August at this fac...</td>\n",
              "      <td>[I, was, in, Paris, from, 8, to, 13, August, a...</td>\n",
              "      <td>8</td>\n",
              "      <td>0.9900</td>\n",
              "    </tr>\n",
              "    <tr>\n",
              "      <th>4</th>\n",
              "      <td>I stayed there for 3 nights. Besides the poor ...</td>\n",
              "      <td>[I, stayed, there, for, 3, nights, ., Besides,...</td>\n",
              "      <td>6</td>\n",
              "      <td>-0.0054</td>\n",
              "    </tr>\n",
              "    <tr>\n",
              "      <th>5</th>\n",
              "      <td>Attention half mouth. Very expensive room. Tin...</td>\n",
              "      <td>[Attention, half, mouth, ., Very, expensive, r...</td>\n",
              "      <td>6</td>\n",
              "      <td>-0.2960</td>\n",
              "    </tr>\n",
              "    <tr>\n",
              "      <th>7</th>\n",
              "      <td>Very clean,good breakfast,comfort room,many re...</td>\n",
              "      <td>[Very, clean, ,, good, breakfast, ,, comfort, ...</td>\n",
              "      <td>8</td>\n",
              "      <td>0.4939</td>\n",
              "    </tr>\n",
              "    <tr>\n",
              "      <th>12</th>\n",
              "      <td>Very small rooms</td>\n",
              "      <td>[Very, small, rooms]</td>\n",
              "      <td>6</td>\n",
              "      <td>0.0000</td>\n",
              "    </tr>\n",
              "    <tr>\n",
              "      <th>15</th>\n",
              "      <td>Small rooms but very clean and pretty</td>\n",
              "      <td>[Small, rooms, but, very, clean, and, pretty]</td>\n",
              "      <td>8</td>\n",
              "      <td>0.8653</td>\n",
              "    </tr>\n",
              "    <tr>\n",
              "      <th>16</th>\n",
              "      <td>Good clean property but overlooks busy street....</td>\n",
              "      <td>[Good, clean, property, but, overlooks, busy, ...</td>\n",
              "      <td>8</td>\n",
              "      <td>0.9291</td>\n",
              "    </tr>\n",
              "    <tr>\n",
              "      <th>19</th>\n",
              "      <td>Petit dej at the top!</td>\n",
              "      <td>[Petit, dej, at, the, top, !]</td>\n",
              "      <td>6</td>\n",
              "      <td>0.2714</td>\n",
              "    </tr>\n",
              "  </tbody>\n",
              "</table>\n",
              "</div>"
            ],
            "text/plain": [
              "                                           ReviewText  ...  output\n",
              "1   Good hotel, not close to the sites of interest...  ...  0.9020\n",
              "2          Nice budget hotel for your stay in Paris..  ...  0.4215\n",
              "3   I was in Paris from 8 to 13 August at this fac...  ...  0.9900\n",
              "4   I stayed there for 3 nights. Besides the poor ...  ... -0.0054\n",
              "5   Attention half mouth. Very expensive room. Tin...  ... -0.2960\n",
              "7   Very clean,good breakfast,comfort room,many re...  ...  0.4939\n",
              "12                                   Very small rooms  ...  0.0000\n",
              "15              Small rooms but very clean and pretty  ...  0.8653\n",
              "16  Good clean property but overlooks busy street....  ...  0.9291\n",
              "19                              Petit dej at the top!  ...  0.2714\n",
              "\n",
              "[10 rows x 4 columns]"
            ]
          },
          "metadata": {
            "tags": []
          },
          "execution_count": 61
        }
      ]
    },
    {
      "cell_type": "code",
      "metadata": {
        "id": "xo2v6sWItX4S"
      },
      "source": [
        "# dummy_df['score'] = dummy_df['output'].apply(self.score)\n",
        "dummy_df['Labels'] = pd.cut(dummy_df['output'], bins=3, labels=[3,6,8])\n",
        "dummy_df['pred']=dummy_df['Labels']"
      ],
      "execution_count": 65,
      "outputs": []
    },
    {
      "cell_type": "code",
      "metadata": {
        "colab": {
          "base_uri": "https://localhost:8080/",
          "height": 676
        },
        "id": "FVPliDZEtcOm",
        "outputId": "fc2edc93-16b9-492c-9f06-cd05aa7b441c"
      },
      "source": [
        "dummy_df.head(20)"
      ],
      "execution_count": 69,
      "outputs": [
        {
          "output_type": "execute_result",
          "data": {
            "text/html": [
              "<div>\n",
              "<style scoped>\n",
              "    .dataframe tbody tr th:only-of-type {\n",
              "        vertical-align: middle;\n",
              "    }\n",
              "\n",
              "    .dataframe tbody tr th {\n",
              "        vertical-align: top;\n",
              "    }\n",
              "\n",
              "    .dataframe thead th {\n",
              "        text-align: right;\n",
              "    }\n",
              "</style>\n",
              "<table border=\"1\" class=\"dataframe\">\n",
              "  <thead>\n",
              "    <tr style=\"text-align: right;\">\n",
              "      <th></th>\n",
              "      <th>ReviewText</th>\n",
              "      <th>tokenized_sents</th>\n",
              "      <th>Labels</th>\n",
              "      <th>output</th>\n",
              "      <th>pred</th>\n",
              "    </tr>\n",
              "  </thead>\n",
              "  <tbody>\n",
              "    <tr>\n",
              "      <th>1</th>\n",
              "      <td>Good hotel, not close to the sites of interest...</td>\n",
              "      <td>[Good, hotel, ,, not, close, to, the, sites, o...</td>\n",
              "      <td>8</td>\n",
              "      <td>0.9020</td>\n",
              "      <td>8</td>\n",
              "    </tr>\n",
              "    <tr>\n",
              "      <th>2</th>\n",
              "      <td>Nice budget hotel for your stay in Paris..</td>\n",
              "      <td>[Nice, budget, hotel, for, your, stay, in, Par...</td>\n",
              "      <td>8</td>\n",
              "      <td>0.4215</td>\n",
              "      <td>8</td>\n",
              "    </tr>\n",
              "    <tr>\n",
              "      <th>3</th>\n",
              "      <td>I was in Paris from 8 to 13 August at this fac...</td>\n",
              "      <td>[I, was, in, Paris, from, 8, to, 13, August, a...</td>\n",
              "      <td>8</td>\n",
              "      <td>0.9900</td>\n",
              "      <td>8</td>\n",
              "    </tr>\n",
              "    <tr>\n",
              "      <th>4</th>\n",
              "      <td>I stayed there for 3 nights. Besides the poor ...</td>\n",
              "      <td>[I, stayed, there, for, 3, nights, ., Besides,...</td>\n",
              "      <td>6</td>\n",
              "      <td>-0.0054</td>\n",
              "      <td>6</td>\n",
              "    </tr>\n",
              "    <tr>\n",
              "      <th>5</th>\n",
              "      <td>Attention half mouth. Very expensive room. Tin...</td>\n",
              "      <td>[Attention, half, mouth, ., Very, expensive, r...</td>\n",
              "      <td>6</td>\n",
              "      <td>-0.2960</td>\n",
              "      <td>6</td>\n",
              "    </tr>\n",
              "    <tr>\n",
              "      <th>7</th>\n",
              "      <td>Very clean,good breakfast,comfort room,many re...</td>\n",
              "      <td>[Very, clean, ,, good, breakfast, ,, comfort, ...</td>\n",
              "      <td>8</td>\n",
              "      <td>0.4939</td>\n",
              "      <td>8</td>\n",
              "    </tr>\n",
              "    <tr>\n",
              "      <th>12</th>\n",
              "      <td>Very small rooms</td>\n",
              "      <td>[Very, small, rooms]</td>\n",
              "      <td>6</td>\n",
              "      <td>0.0000</td>\n",
              "      <td>6</td>\n",
              "    </tr>\n",
              "    <tr>\n",
              "      <th>15</th>\n",
              "      <td>Small rooms but very clean and pretty</td>\n",
              "      <td>[Small, rooms, but, very, clean, and, pretty]</td>\n",
              "      <td>8</td>\n",
              "      <td>0.8653</td>\n",
              "      <td>8</td>\n",
              "    </tr>\n",
              "    <tr>\n",
              "      <th>16</th>\n",
              "      <td>Good clean property but overlooks busy street....</td>\n",
              "      <td>[Good, clean, property, but, overlooks, busy, ...</td>\n",
              "      <td>8</td>\n",
              "      <td>0.9291</td>\n",
              "      <td>8</td>\n",
              "    </tr>\n",
              "    <tr>\n",
              "      <th>19</th>\n",
              "      <td>Petit dej at the top!</td>\n",
              "      <td>[Petit, dej, at, the, top, !]</td>\n",
              "      <td>6</td>\n",
              "      <td>0.2714</td>\n",
              "      <td>6</td>\n",
              "    </tr>\n",
              "    <tr>\n",
              "      <th>22</th>\n",
              "      <td>I do not really know but I love it here</td>\n",
              "      <td>[I, do, not, really, know, but, I, love, it, h...</td>\n",
              "      <td>8</td>\n",
              "      <td>0.8018</td>\n",
              "      <td>8</td>\n",
              "    </tr>\n",
              "    <tr>\n",
              "      <th>23</th>\n",
              "      <td>Staff not attentive to customer requests! When...</td>\n",
              "      <td>[Staff, not, attentive, to, customer, requests...</td>\n",
              "      <td>8</td>\n",
              "      <td>0.5053</td>\n",
              "      <td>8</td>\n",
              "    </tr>\n",
              "    <tr>\n",
              "      <th>27</th>\n",
              "      <td>Clean hotel, good breakfast, very kind staff a...</td>\n",
              "      <td>[Clean, hotel, ,, good, breakfast, ,, very, ki...</td>\n",
              "      <td>8</td>\n",
              "      <td>0.9041</td>\n",
              "      <td>8</td>\n",
              "    </tr>\n",
              "    <tr>\n",
              "      <th>29</th>\n",
              "      <td>Hotel nice and clean. Service ok</td>\n",
              "      <td>[Hotel, nice, and, clean, ., Service, ok]</td>\n",
              "      <td>8</td>\n",
              "      <td>0.7717</td>\n",
              "      <td>8</td>\n",
              "    </tr>\n",
              "    <tr>\n",
              "      <th>32</th>\n",
              "      <td>The hotel itself is really nice if you want a ...</td>\n",
              "      <td>[The, hotel, itself, is, really, nice, if, you...</td>\n",
              "      <td>8</td>\n",
              "      <td>0.9911</td>\n",
              "      <td>8</td>\n",
              "    </tr>\n",
              "    <tr>\n",
              "      <th>36</th>\n",
              "      <td>Comfortable and calm</td>\n",
              "      <td>[Comfortable, and, calm]</td>\n",
              "      <td>8</td>\n",
              "      <td>0.6808</td>\n",
              "      <td>8</td>\n",
              "    </tr>\n",
              "    <tr>\n",
              "      <th>38</th>\n",
              "      <td>All you need for your stay in Paris. Good loca...</td>\n",
              "      <td>[All, you, need, for, your, stay, in, Paris, ....</td>\n",
              "      <td>8</td>\n",
              "      <td>0.8591</td>\n",
              "      <td>8</td>\n",
              "    </tr>\n",
              "    <tr>\n",
              "      <th>43</th>\n",
              "      <td>Small and expensive. But hey .. it's Paris ..</td>\n",
              "      <td>[Small, and, expensive, ., But, hey, .., it, '...</td>\n",
              "      <td>6</td>\n",
              "      <td>0.0000</td>\n",
              "      <td>6</td>\n",
              "    </tr>\n",
              "    <tr>\n",
              "      <th>44</th>\n",
              "      <td>Ibis classic. Perfect for sleeping comfortably...</td>\n",
              "      <td>[Ibis, classic, ., Perfect, for, sleeping, com...</td>\n",
              "      <td>8</td>\n",
              "      <td>0.7579</td>\n",
              "      <td>8</td>\n",
              "    </tr>\n",
              "    <tr>\n",
              "      <th>45</th>\n",
              "      <td>Nice hotel inside but does not look much on th...</td>\n",
              "      <td>[Nice, hotel, inside, but, does, not, look, mu...</td>\n",
              "      <td>8</td>\n",
              "      <td>0.7783</td>\n",
              "      <td>8</td>\n",
              "    </tr>\n",
              "  </tbody>\n",
              "</table>\n",
              "</div>"
            ],
            "text/plain": [
              "                                           ReviewText  ... pred\n",
              "1   Good hotel, not close to the sites of interest...  ...    8\n",
              "2          Nice budget hotel for your stay in Paris..  ...    8\n",
              "3   I was in Paris from 8 to 13 August at this fac...  ...    8\n",
              "4   I stayed there for 3 nights. Besides the poor ...  ...    6\n",
              "5   Attention half mouth. Very expensive room. Tin...  ...    6\n",
              "7   Very clean,good breakfast,comfort room,many re...  ...    8\n",
              "12                                   Very small rooms  ...    6\n",
              "15              Small rooms but very clean and pretty  ...    8\n",
              "16  Good clean property but overlooks busy street....  ...    8\n",
              "19                              Petit dej at the top!  ...    6\n",
              "22            I do not really know but I love it here  ...    8\n",
              "23  Staff not attentive to customer requests! When...  ...    8\n",
              "27  Clean hotel, good breakfast, very kind staff a...  ...    8\n",
              "29                   Hotel nice and clean. Service ok  ...    8\n",
              "32  The hotel itself is really nice if you want a ...  ...    8\n",
              "36                               Comfortable and calm  ...    8\n",
              "38  All you need for your stay in Paris. Good loca...  ...    8\n",
              "43      Small and expensive. But hey .. it's Paris ..  ...    6\n",
              "44  Ibis classic. Perfect for sleeping comfortably...  ...    8\n",
              "45  Nice hotel inside but does not look much on th...  ...    8\n",
              "\n",
              "[20 rows x 5 columns]"
            ]
          },
          "metadata": {
            "tags": []
          },
          "execution_count": 69
        }
      ]
    },
    {
      "cell_type": "code",
      "metadata": {
        "colab": {
          "base_uri": "https://localhost:8080/"
        },
        "id": "qC29KieDuHut",
        "outputId": "cded8c1c-0f6c-4e5e-c185-413898a502ed"
      },
      "source": [
        "dummy_df.pred.value_counts()"
      ],
      "execution_count": 67,
      "outputs": [
        {
          "output_type": "execute_result",
          "data": {
            "text/plain": [
              "8    1109\n",
              "6     194\n",
              "3     167\n",
              "Name: pred, dtype: int64"
            ]
          },
          "metadata": {
            "tags": []
          },
          "execution_count": 67
        }
      ]
    },
    {
      "cell_type": "code",
      "metadata": {
        "id": "W85nsNLxuLpz"
      },
      "source": [
        "dummy_df.drop(['output','pred'], axis = 1, inplace=True)"
      ],
      "execution_count": 70,
      "outputs": []
    },
    {
      "cell_type": "code",
      "metadata": {
        "colab": {
          "base_uri": "https://localhost:8080/",
          "height": 206
        },
        "id": "q3TllZuTvGj_",
        "outputId": "60c9b734-0dba-42b0-bcfd-2e531c80d84f"
      },
      "source": [
        "dummy_df.head()"
      ],
      "execution_count": 71,
      "outputs": [
        {
          "output_type": "execute_result",
          "data": {
            "text/html": [
              "<div>\n",
              "<style scoped>\n",
              "    .dataframe tbody tr th:only-of-type {\n",
              "        vertical-align: middle;\n",
              "    }\n",
              "\n",
              "    .dataframe tbody tr th {\n",
              "        vertical-align: top;\n",
              "    }\n",
              "\n",
              "    .dataframe thead th {\n",
              "        text-align: right;\n",
              "    }\n",
              "</style>\n",
              "<table border=\"1\" class=\"dataframe\">\n",
              "  <thead>\n",
              "    <tr style=\"text-align: right;\">\n",
              "      <th></th>\n",
              "      <th>ReviewText</th>\n",
              "      <th>tokenized_sents</th>\n",
              "      <th>Labels</th>\n",
              "    </tr>\n",
              "  </thead>\n",
              "  <tbody>\n",
              "    <tr>\n",
              "      <th>1</th>\n",
              "      <td>Good hotel, not close to the sites of interest...</td>\n",
              "      <td>[Good, hotel, ,, not, close, to, the, sites, o...</td>\n",
              "      <td>8</td>\n",
              "    </tr>\n",
              "    <tr>\n",
              "      <th>2</th>\n",
              "      <td>Nice budget hotel for your stay in Paris..</td>\n",
              "      <td>[Nice, budget, hotel, for, your, stay, in, Par...</td>\n",
              "      <td>8</td>\n",
              "    </tr>\n",
              "    <tr>\n",
              "      <th>3</th>\n",
              "      <td>I was in Paris from 8 to 13 August at this fac...</td>\n",
              "      <td>[I, was, in, Paris, from, 8, to, 13, August, a...</td>\n",
              "      <td>8</td>\n",
              "    </tr>\n",
              "    <tr>\n",
              "      <th>4</th>\n",
              "      <td>I stayed there for 3 nights. Besides the poor ...</td>\n",
              "      <td>[I, stayed, there, for, 3, nights, ., Besides,...</td>\n",
              "      <td>6</td>\n",
              "    </tr>\n",
              "    <tr>\n",
              "      <th>5</th>\n",
              "      <td>Attention half mouth. Very expensive room. Tin...</td>\n",
              "      <td>[Attention, half, mouth, ., Very, expensive, r...</td>\n",
              "      <td>6</td>\n",
              "    </tr>\n",
              "  </tbody>\n",
              "</table>\n",
              "</div>"
            ],
            "text/plain": [
              "                                          ReviewText  ... Labels\n",
              "1  Good hotel, not close to the sites of interest...  ...      8\n",
              "2         Nice budget hotel for your stay in Paris..  ...      8\n",
              "3  I was in Paris from 8 to 13 August at this fac...  ...      8\n",
              "4  I stayed there for 3 nights. Besides the poor ...  ...      6\n",
              "5  Attention half mouth. Very expensive room. Tin...  ...      6\n",
              "\n",
              "[5 rows x 3 columns]"
            ]
          },
          "metadata": {
            "tags": []
          },
          "execution_count": 71
        }
      ]
    },
    {
      "cell_type": "code",
      "metadata": {
        "id": "Wdu8CHhpvTx-"
      },
      "source": [
        "good = []\n",
        "not_bad = []\n",
        "can_improve = []\n",
        "for l in dummy_df.Labels:\n",
        "    if l == 8:\n",
        "        good.append(1)\n",
        "        not_bad.append(0)\n",
        "        can_improve.append(0)\n",
        "    elif l == 6:\n",
        "        good.append(0)\n",
        "        not_bad.append(1)\n",
        "        can_improve.append(0)\n",
        "    else:\n",
        "        good.append(0)\n",
        "        not_bad.append(0)\n",
        "        can_improve.append(1)\n",
        "\n",
        "dummy_df['Good']= good\n",
        "dummy_df['Not_Bad']= not_bad\n",
        "dummy_df['can_improve']= can_improve"
      ],
      "execution_count": 72,
      "outputs": []
    },
    {
      "cell_type": "code",
      "metadata": {
        "colab": {
          "base_uri": "https://localhost:8080/",
          "height": 293
        },
        "id": "2ARtGLEHvVrk",
        "outputId": "03a70684-dda8-47c0-88da-7316b41bde36"
      },
      "source": [
        "dummy_df.head()"
      ],
      "execution_count": 73,
      "outputs": [
        {
          "output_type": "execute_result",
          "data": {
            "text/html": [
              "<div>\n",
              "<style scoped>\n",
              "    .dataframe tbody tr th:only-of-type {\n",
              "        vertical-align: middle;\n",
              "    }\n",
              "\n",
              "    .dataframe tbody tr th {\n",
              "        vertical-align: top;\n",
              "    }\n",
              "\n",
              "    .dataframe thead th {\n",
              "        text-align: right;\n",
              "    }\n",
              "</style>\n",
              "<table border=\"1\" class=\"dataframe\">\n",
              "  <thead>\n",
              "    <tr style=\"text-align: right;\">\n",
              "      <th></th>\n",
              "      <th>ReviewText</th>\n",
              "      <th>tokenized_sents</th>\n",
              "      <th>Labels</th>\n",
              "      <th>Good</th>\n",
              "      <th>Not_Bad</th>\n",
              "      <th>can_improve</th>\n",
              "    </tr>\n",
              "  </thead>\n",
              "  <tbody>\n",
              "    <tr>\n",
              "      <th>1</th>\n",
              "      <td>Good hotel, not close to the sites of interest...</td>\n",
              "      <td>[Good, hotel, ,, not, close, to, the, sites, o...</td>\n",
              "      <td>8</td>\n",
              "      <td>1</td>\n",
              "      <td>0</td>\n",
              "      <td>0</td>\n",
              "    </tr>\n",
              "    <tr>\n",
              "      <th>2</th>\n",
              "      <td>Nice budget hotel for your stay in Paris..</td>\n",
              "      <td>[Nice, budget, hotel, for, your, stay, in, Par...</td>\n",
              "      <td>8</td>\n",
              "      <td>1</td>\n",
              "      <td>0</td>\n",
              "      <td>0</td>\n",
              "    </tr>\n",
              "    <tr>\n",
              "      <th>3</th>\n",
              "      <td>I was in Paris from 8 to 13 August at this fac...</td>\n",
              "      <td>[I, was, in, Paris, from, 8, to, 13, August, a...</td>\n",
              "      <td>8</td>\n",
              "      <td>1</td>\n",
              "      <td>0</td>\n",
              "      <td>0</td>\n",
              "    </tr>\n",
              "    <tr>\n",
              "      <th>4</th>\n",
              "      <td>I stayed there for 3 nights. Besides the poor ...</td>\n",
              "      <td>[I, stayed, there, for, 3, nights, ., Besides,...</td>\n",
              "      <td>6</td>\n",
              "      <td>0</td>\n",
              "      <td>1</td>\n",
              "      <td>0</td>\n",
              "    </tr>\n",
              "    <tr>\n",
              "      <th>5</th>\n",
              "      <td>Attention half mouth. Very expensive room. Tin...</td>\n",
              "      <td>[Attention, half, mouth, ., Very, expensive, r...</td>\n",
              "      <td>6</td>\n",
              "      <td>0</td>\n",
              "      <td>1</td>\n",
              "      <td>0</td>\n",
              "    </tr>\n",
              "  </tbody>\n",
              "</table>\n",
              "</div>"
            ],
            "text/plain": [
              "                                          ReviewText  ... can_improve\n",
              "1  Good hotel, not close to the sites of interest...  ...           0\n",
              "2         Nice budget hotel for your stay in Paris..  ...           0\n",
              "3  I was in Paris from 8 to 13 August at this fac...  ...           0\n",
              "4  I stayed there for 3 nights. Besides the poor ...  ...           0\n",
              "5  Attention half mouth. Very expensive room. Tin...  ...           0\n",
              "\n",
              "[5 rows x 6 columns]"
            ]
          },
          "metadata": {
            "tags": []
          },
          "execution_count": 73
        }
      ]
    },
    {
      "cell_type": "code",
      "metadata": {
        "id": "lGe8wgEjvdXt"
      },
      "source": [
        "# train, test = train_test_split(dummy_df, test_size=0.4, random_state = 45)\n",
        "train = dummy_df\n",
        "test = dummy_df"
      ],
      "execution_count": 74,
      "outputs": []
    },
    {
      "cell_type": "code",
      "metadata": {
        "colab": {
          "base_uri": "https://localhost:8080/"
        },
        "id": "fBX0RrFHvfwD",
        "outputId": "1b2ee623-36ab-46f6-8da2-bc5094129380"
      },
      "source": [
        "print(train.shape)\n",
        "print(test.shape)"
      ],
      "execution_count": 75,
      "outputs": [
        {
          "output_type": "stream",
          "text": [
            "(1470, 6)\n",
            "(1470, 6)\n"
          ],
          "name": "stdout"
        }
      ]
    },
    {
      "cell_type": "code",
      "metadata": {
        "colab": {
          "base_uri": "https://localhost:8080/"
        },
        "id": "RMOQh3OEvjZu",
        "outputId": "7ac17cd6-229b-4862-bb2d-c2ca8745cf5a"
      },
      "source": [
        "all_training_words = [word for tokens in train[\"tokenized_sents\"] for word in tokens]\n",
        "training_sentence_lengths = [len(tokens) for tokens in train[\"tokenized_sents\"]]\n",
        "TRAINING_VOCAB = sorted(list(set(all_training_words)))\n",
        "print(\"%s words total, with a vocabulary size of %s\" % (len(all_training_words), len(TRAINING_VOCAB)))\n",
        "print(\"Max sentence length is %s\" % max(training_sentence_lengths))"
      ],
      "execution_count": 76,
      "outputs": [
        {
          "output_type": "stream",
          "text": [
            "116130 words total, with a vocabulary size of 7507\n",
            "Max sentence length is 842\n"
          ],
          "name": "stdout"
        }
      ]
    },
    {
      "cell_type": "code",
      "metadata": {
        "colab": {
          "base_uri": "https://localhost:8080/"
        },
        "id": "--zcYhtzvoa4",
        "outputId": "5a4b1f47-103f-42e9-dbb2-de30444fb30c"
      },
      "source": [
        "all_training_words = [word for tokens in test[\"tokenized_sents\"] for word in tokens]\n",
        "training_sentence_lengths = [len(tokens) for tokens in test[\"tokenized_sents\"]]\n",
        "TRAINING_VOCAB = sorted(list(set(all_training_words)))\n",
        "print(\"%s words total, with a vocabulary size of %s\" % (len(all_training_words), len(TRAINING_VOCAB)))\n",
        "print(\"Max sentence length is %s\" % max(training_sentence_lengths))"
      ],
      "execution_count": 77,
      "outputs": [
        {
          "output_type": "stream",
          "text": [
            "116130 words total, with a vocabulary size of 7507\n",
            "Max sentence length is 842\n"
          ],
          "name": "stdout"
        }
      ]
    },
    {
      "cell_type": "code",
      "metadata": {
        "colab": {
          "base_uri": "https://localhost:8080/"
        },
        "id": "cjzceBhOwZRt",
        "outputId": "ce378802-a75e-4fb2-ab84-ad4657638fe0"
      },
      "source": [
        "!wget -P /root/input/ -c \"https://s3.amazonaws.com/dl4j-distribution/GoogleNews-vectors-negative300.bin.gz\""
      ],
      "execution_count": 78,
      "outputs": [
        {
          "output_type": "stream",
          "text": [
            "--2021-07-05 17:40:55--  https://s3.amazonaws.com/dl4j-distribution/GoogleNews-vectors-negative300.bin.gz\n",
            "Resolving s3.amazonaws.com (s3.amazonaws.com)... 52.216.138.85\n",
            "Connecting to s3.amazonaws.com (s3.amazonaws.com)|52.216.138.85|:443... connected.\n",
            "HTTP request sent, awaiting response... 200 OK\n",
            "Length: 1647046227 (1.5G) [application/x-gzip]\n",
            "Saving to: ‘/root/input/GoogleNews-vectors-negative300.bin.gz’\n",
            "\n",
            "GoogleNews-vectors- 100%[===================>]   1.53G  16.1MB/s    in 1m 43s  \n",
            "\n",
            "2021-07-05 17:42:39 (15.3 MB/s) - ‘/root/input/GoogleNews-vectors-negative300.bin.gz’ saved [1647046227/1647046227]\n",
            "\n"
          ],
          "name": "stdout"
        }
      ]
    },
    {
      "cell_type": "code",
      "metadata": {
        "id": "T5hHU20Dw7rm"
      },
      "source": [
        "import gensim\n",
        "\n",
        "word2vec_path = '/root/input/GoogleNews-vectors-negative300.bin.gz'\n",
        "word2vec = gensim.models.KeyedVectors.load_word2vec_format(word2vec_path, binary=True)"
      ],
      "execution_count": 79,
      "outputs": []
    },
    {
      "cell_type": "code",
      "metadata": {
        "id": "5WTsJFRwxDem"
      },
      "source": [
        "def get_average_word2vec(tokens_list, vector, generate_missing=False, k=300):\n",
        "    if len(tokens_list)<1:\n",
        "        return np.zeros(k)\n",
        "    if generate_missing:\n",
        "        vectorized = [vector[word] if word in vector else np.random.rand(k) for word in tokens_list]\n",
        "    else:\n",
        "        vectorized = [vector[word] if word in vector else np.zeros(k) for word in tokens_list]\n",
        "    length = len(vectorized)\n",
        "    summed = np.sum(vectorized, axis=0)\n",
        "    averaged = np.divide(summed, length)\n",
        "    return averaged\n",
        "\n",
        "def get_word2vec_embeddings(vectors, clean_comments, generate_missing=False):\n",
        "    embeddings = clean_comments['tokenized_sents'].apply(lambda x: get_average_word2vec(x, vectors, \n",
        "                                                                                generate_missing=generate_missing))\n",
        "    return list(embeddings)"
      ],
      "execution_count": 80,
      "outputs": []
    },
    {
      "cell_type": "code",
      "metadata": {
        "id": "zm7Vdo85xIr6"
      },
      "source": [
        "training_embeddings = get_word2vec_embeddings(word2vec, train, generate_missing=True)"
      ],
      "execution_count": 81,
      "outputs": []
    },
    {
      "cell_type": "code",
      "metadata": {
        "id": "R3yrGCE9xOKu"
      },
      "source": [
        "MAX_SEQUENCE_LENGTH = 50\n",
        "EMBEDDING_DIM = 300"
      ],
      "execution_count": 82,
      "outputs": []
    },
    {
      "cell_type": "code",
      "metadata": {
        "colab": {
          "base_uri": "https://localhost:8080/"
        },
        "id": "xUJujVLzxfrU",
        "outputId": "34f8e2c5-0584-4e52-c08f-03f8e5bdd740"
      },
      "source": [
        "tokenizer = Tokenizer(num_words=len(TRAINING_VOCAB), lower=True, char_level=False)\n",
        "tokenizer.fit_on_texts(train[\"ReviewText\"].tolist())\n",
        "training_sequences = tokenizer.texts_to_sequences(train[\"ReviewText\"].tolist())\n",
        "\n",
        "train_word_index = tokenizer.word_index\n",
        "print('Found %s unique tokens.' % len(train_word_index))"
      ],
      "execution_count": 83,
      "outputs": [
        {
          "output_type": "stream",
          "text": [
            "Found 6183 unique tokens.\n"
          ],
          "name": "stdout"
        }
      ]
    },
    {
      "cell_type": "code",
      "metadata": {
        "id": "yKjrr83txnQt"
      },
      "source": [
        "train_cnn_data = pad_sequences(training_sequences, maxlen=MAX_SEQUENCE_LENGTH)"
      ],
      "execution_count": 84,
      "outputs": []
    },
    {
      "cell_type": "code",
      "metadata": {
        "colab": {
          "base_uri": "https://localhost:8080/"
        },
        "id": "cmr1EcZjxpNa",
        "outputId": "f13a17a8-8fa2-4ad7-f1be-bc64c0f6047e"
      },
      "source": [
        "train_embedding_weights = np.zeros((len(train_word_index)+1, EMBEDDING_DIM))\n",
        "for word,index in train_word_index.items():\n",
        "    train_embedding_weights[index,:] = word2vec[word] if word in word2vec else np.random.rand(EMBEDDING_DIM)\n",
        "print(train_embedding_weights.shape)"
      ],
      "execution_count": 85,
      "outputs": [
        {
          "output_type": "stream",
          "text": [
            "(6184, 300)\n"
          ],
          "name": "stdout"
        }
      ]
    },
    {
      "cell_type": "code",
      "metadata": {
        "id": "tdA3IJGmxtbU"
      },
      "source": [
        "test_sequences = tokenizer.texts_to_sequences(test[\"ReviewText\"].tolist())\n",
        "test_cnn_data = pad_sequences(test_sequences, maxlen=MAX_SEQUENCE_LENGTH)"
      ],
      "execution_count": 86,
      "outputs": []
    },
    {
      "cell_type": "code",
      "metadata": {
        "id": "bFmfnewdxwkR"
      },
      "source": [
        "def ConvNet(embeddings, max_sequence_length, num_words, embedding_dim, labels_index):\n",
        "    \n",
        "    embedding_layer = Embedding(num_words,\n",
        "                            embedding_dim,\n",
        "                            weights=[embeddings],\n",
        "                            input_length=max_sequence_length,\n",
        "                            trainable=False)\n",
        "    \n",
        "    sequence_input = Input(shape=(max_sequence_length,), dtype='int32')\n",
        "    embedded_sequences = embedding_layer(sequence_input)\n",
        "\n",
        "    convs = []\n",
        "    filter_sizes = [2,3,4,5,6]\n",
        "\n",
        "    for filter_size in filter_sizes:\n",
        "        l_conv = Conv1D(filters=200, kernel_size=filter_size, activation='relu')(embedded_sequences)\n",
        "        l_pool = GlobalMaxPooling1D()(l_conv)\n",
        "        convs.append(l_pool)\n",
        "\n",
        "\n",
        "    l_merge = concatenate(convs, axis=1)\n",
        "\n",
        "    x = Dropout(0.1)(l_merge)  \n",
        "    x = Dense(128, activation='relu')(x)\n",
        "    x = Dropout(0.2)(x)\n",
        "    preds = Dense(labels_index, activation='sigmoid')(x)\n",
        "\n",
        "    model = Model(sequence_input, preds)\n",
        "    model.compile(loss='binary_crossentropy',\n",
        "                  optimizer='adam',\n",
        "                  metrics=['acc'])\n",
        "    model.summary()\n",
        "    return model"
      ],
      "execution_count": 87,
      "outputs": []
    },
    {
      "cell_type": "code",
      "metadata": {
        "id": "CtZ9SxUvx1qY"
      },
      "source": [
        "x_train = train_cnn_data\n",
        "label_names = ['Good', 'Not_Bad', 'can_improve']\n",
        "y_train = dummy_df[label_names].values"
      ],
      "execution_count": 88,
      "outputs": []
    },
    {
      "cell_type": "code",
      "metadata": {
        "colab": {
          "base_uri": "https://localhost:8080/"
        },
        "id": "0VIQBj-Cx5lk",
        "outputId": "cee76d10-64a9-48ec-fa9c-6fa6ac461e28"
      },
      "source": [
        "model = ConvNet(train_embedding_weights, MAX_SEQUENCE_LENGTH, len(train_word_index)+1, EMBEDDING_DIM, \n",
        "                len(list(label_names)))"
      ],
      "execution_count": 89,
      "outputs": [
        {
          "output_type": "stream",
          "text": [
            "Model: \"model\"\n",
            "__________________________________________________________________________________________________\n",
            "Layer (type)                    Output Shape         Param #     Connected to                     \n",
            "==================================================================================================\n",
            "input_1 (InputLayer)            [(None, 50)]         0                                            \n",
            "__________________________________________________________________________________________________\n",
            "embedding (Embedding)           (None, 50, 300)      1855200     input_1[0][0]                    \n",
            "__________________________________________________________________________________________________\n",
            "conv1d (Conv1D)                 (None, 49, 200)      120200      embedding[0][0]                  \n",
            "__________________________________________________________________________________________________\n",
            "conv1d_1 (Conv1D)               (None, 48, 200)      180200      embedding[0][0]                  \n",
            "__________________________________________________________________________________________________\n",
            "conv1d_2 (Conv1D)               (None, 47, 200)      240200      embedding[0][0]                  \n",
            "__________________________________________________________________________________________________\n",
            "conv1d_3 (Conv1D)               (None, 46, 200)      300200      embedding[0][0]                  \n",
            "__________________________________________________________________________________________________\n",
            "conv1d_4 (Conv1D)               (None, 45, 200)      360200      embedding[0][0]                  \n",
            "__________________________________________________________________________________________________\n",
            "global_max_pooling1d (GlobalMax (None, 200)          0           conv1d[0][0]                     \n",
            "__________________________________________________________________________________________________\n",
            "global_max_pooling1d_1 (GlobalM (None, 200)          0           conv1d_1[0][0]                   \n",
            "__________________________________________________________________________________________________\n",
            "global_max_pooling1d_2 (GlobalM (None, 200)          0           conv1d_2[0][0]                   \n",
            "__________________________________________________________________________________________________\n",
            "global_max_pooling1d_3 (GlobalM (None, 200)          0           conv1d_3[0][0]                   \n",
            "__________________________________________________________________________________________________\n",
            "global_max_pooling1d_4 (GlobalM (None, 200)          0           conv1d_4[0][0]                   \n",
            "__________________________________________________________________________________________________\n",
            "concatenate (Concatenate)       (None, 1000)         0           global_max_pooling1d[0][0]       \n",
            "                                                                 global_max_pooling1d_1[0][0]     \n",
            "                                                                 global_max_pooling1d_2[0][0]     \n",
            "                                                                 global_max_pooling1d_3[0][0]     \n",
            "                                                                 global_max_pooling1d_4[0][0]     \n",
            "__________________________________________________________________________________________________\n",
            "dropout (Dropout)               (None, 1000)         0           concatenate[0][0]                \n",
            "__________________________________________________________________________________________________\n",
            "dense (Dense)                   (None, 128)          128128      dropout[0][0]                    \n",
            "__________________________________________________________________________________________________\n",
            "dropout_1 (Dropout)             (None, 128)          0           dense[0][0]                      \n",
            "__________________________________________________________________________________________________\n",
            "dense_1 (Dense)                 (None, 3)            387         dropout_1[0][0]                  \n",
            "==================================================================================================\n",
            "Total params: 3,184,715\n",
            "Trainable params: 1,329,515\n",
            "Non-trainable params: 1,855,200\n",
            "__________________________________________________________________________________________________\n"
          ],
          "name": "stdout"
        }
      ]
    },
    {
      "cell_type": "code",
      "metadata": {
        "id": "NA0aVzIFyAHG"
      },
      "source": [
        "num_epochs = 5\n",
        "batch_size = 32"
      ],
      "execution_count": 90,
      "outputs": []
    },
    {
      "cell_type": "code",
      "metadata": {
        "colab": {
          "base_uri": "https://localhost:8080/"
        },
        "id": "7yJcaT10yE1F",
        "outputId": "5505b263-8e42-4d12-de5c-2c42d688bdd0"
      },
      "source": [
        "hist = model.fit(x_train, y_train, epochs=num_epochs, validation_split=0.1, shuffle=True, batch_size=batch_size)"
      ],
      "execution_count": 93,
      "outputs": [
        {
          "output_type": "stream",
          "text": [
            "Epoch 1/5\n",
            "42/42 [==============================] - 7s 165ms/step - loss: 0.1414 - acc: 0.9252 - val_loss: 0.2459 - val_acc: 0.8707\n",
            "Epoch 2/5\n",
            "42/42 [==============================] - 7s 164ms/step - loss: 0.0910 - acc: 0.9660 - val_loss: 0.2572 - val_acc: 0.8299\n",
            "Epoch 3/5\n",
            "42/42 [==============================] - 7s 164ms/step - loss: 0.0614 - acc: 0.9811 - val_loss: 0.3475 - val_acc: 0.8299\n",
            "Epoch 4/5\n",
            "42/42 [==============================] - 7s 163ms/step - loss: 0.0331 - acc: 0.9932 - val_loss: 0.3735 - val_acc: 0.8503\n",
            "Epoch 5/5\n",
            "42/42 [==============================] - 7s 164ms/step - loss: 0.0235 - acc: 0.9947 - val_loss: 0.3281 - val_acc: 0.8639\n"
          ],
          "name": "stdout"
        }
      ]
    },
    {
      "cell_type": "code",
      "metadata": {
        "colab": {
          "base_uri": "https://localhost:8080/",
          "height": 573
        },
        "id": "WMznQK88yZwJ",
        "outputId": "55306e8a-675b-4e18-a7b7-946a56ed3bbd"
      },
      "source": [
        "# summarize history for accuracy\n",
        "plt.plot(hist.history['acc'])\n",
        "plt.plot(hist.history['val_acc'])\n",
        "plt.title('model accuracy')\n",
        "plt.ylabel('accuracy')\n",
        "plt.xlabel('epoch')\n",
        "plt.legend(['train', 'test'], loc='upper left')\n",
        "plt.show()\n",
        "# summarize history for loss\n",
        "plt.plot(hist.history['loss'])\n",
        "plt.plot(hist.history['val_loss'])\n",
        "plt.title('model loss')\n",
        "plt.ylabel('loss')\n",
        "plt.xlabel('epoch')\n",
        "plt.legend(['train', 'test'], loc='upper left')\n",
        "plt.show()"
      ],
      "execution_count": 92,
      "outputs": [
        {
          "output_type": "display_data",
          "data": {
            "image/png": "[encoded data removed]",
            "text/plain": [
              "<Figure size 432x288 with 1 Axes>"
            ]
          },
          "metadata": {
            "tags": [],
            "needs_background": "light"
          }
        },
        {
          "output_type": "display_data",
          "data": {
            "image/png": "[encoded data removed]",
            "text/plain": [
              "<Figure size 432x288 with 1 Axes>"
            ]
          },
          "metadata": {
            "tags": [],
            "needs_background": "light"
          }
        }
      ]
    },
    {
      "cell_type": "code",
      "metadata": {
        "colab": {
          "base_uri": "https://localhost:8080/"
        },
        "id": "f0qiqaUGy6rE",
        "outputId": "d9f1a256-a6d1-4284-c106-631fdbfc9e3e"
      },
      "source": [
        "predictions = model.predict(test_cnn_data, batch_size=1024, verbose=1)"
      ],
      "execution_count": 94,
      "outputs": [
        {
          "output_type": "stream",
          "text": [
            "2/2 [==============================] - 4s 849ms/step\n"
          ],
          "name": "stdout"
        }
      ]
    }
  ]
}