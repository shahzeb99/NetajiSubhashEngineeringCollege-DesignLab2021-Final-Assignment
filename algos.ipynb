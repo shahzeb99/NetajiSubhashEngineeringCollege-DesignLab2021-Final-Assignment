{
 "cells": [
  {
   "cell_type": "code",
   "execution_count": 1,
   "metadata": {},
   "outputs": [],
   "source": [
    "import numpy as np\n",
    "import pandas as pd\n",
    "import matplotlib.pyplot as plt\n",
    "import seaborn as sns\n",
    "import re\n",
    "import datetime\n",
    "\n",
    "import nltk\n",
    "from nltk.corpus import stopwords\n",
    "\n",
    "\n",
    "from sklearn.model_selection import train_test_split\n",
    "from sklearn.tree import DecisionTreeClassifier\n",
    "from sklearn.naive_bayes import MultinomialNB\n",
    "from sklearn.ensemble import RandomForestClassifier\n",
    "from sklearn.neighbors import KNeighborsClassifier\n",
    "from sklearn.linear_model import LogisticRegression\n",
    "from sklearn.feature_extraction.text import CountVectorizer"
   ]
  },
  {
   "cell_type": "code",
   "execution_count": 2,
   "metadata": {},
   "outputs": [],
   "source": [
    "data = pd.read_csv('data.csv')"
   ]
  },
  {
   "cell_type": "code",
   "execution_count": 3,
   "metadata": {},
   "outputs": [
    {
     "name": "stdout",
     "output_type": "stream",
     "text": [
      "<class 'pandas.core.frame.DataFrame'>\n",
      "RangeIndex: 2322 entries, 0 to 2321\n",
      "Data columns (total 5 columns):\n",
      "source          2322 non-null object\n",
      "Rating          2170 non-null object\n",
      "ReviewText      1622 non-null object\n",
      "PUBLISH_TS      2322 non-null object\n",
      "organisation    2322 non-null object\n",
      "dtypes: object(5)\n",
      "memory usage: 90.8+ KB\n"
     ]
    }
   ],
   "source": [
    "data.info()"
   ]
  },
  {
   "cell_type": "code",
   "execution_count": 4,
   "metadata": {},
   "outputs": [
    {
     "data": {
      "text/plain": [
       "(2322, 5)"
      ]
     },
     "execution_count": 4,
     "metadata": {},
     "output_type": "execute_result"
    }
   ],
   "source": [
    "data.shape"
   ]
  },
  {
   "cell_type": "code",
   "execution_count": 5,
   "metadata": {},
   "outputs": [
    {
     "data": {
      "text/html": [
       "<div>\n",
       "<style scoped>\n",
       "    .dataframe tbody tr th:only-of-type {\n",
       "        vertical-align: middle;\n",
       "    }\n",
       "\n",
       "    .dataframe tbody tr th {\n",
       "        vertical-align: top;\n",
       "    }\n",
       "\n",
       "    .dataframe thead th {\n",
       "        text-align: right;\n",
       "    }\n",
       "</style>\n",
       "<table border=\"1\" class=\"dataframe\">\n",
       "  <thead>\n",
       "    <tr style=\"text-align: right;\">\n",
       "      <th></th>\n",
       "      <th>source</th>\n",
       "      <th>Rating</th>\n",
       "      <th>ReviewText</th>\n",
       "      <th>PUBLISH_TS</th>\n",
       "      <th>organisation</th>\n",
       "    </tr>\n",
       "  </thead>\n",
       "  <tbody>\n",
       "    <tr>\n",
       "      <td>0</td>\n",
       "      <td>google</td>\n",
       "      <td>3 stars</td>\n",
       "      <td>NaN</td>\n",
       "      <td>2020-01-18 15:03:56.791524</td>\n",
       "      <td>ibis saint martin</td>\n",
       "    </tr>\n",
       "    <tr>\n",
       "      <td>1</td>\n",
       "      <td>google</td>\n",
       "      <td>5 stars</td>\n",
       "      <td>Good hotel, not close to the sites of interest...</td>\n",
       "      <td>2020-01-18 15:03:56.791590</td>\n",
       "      <td>ibis saint martin</td>\n",
       "    </tr>\n",
       "    <tr>\n",
       "      <td>2</td>\n",
       "      <td>google</td>\n",
       "      <td>5 stars</td>\n",
       "      <td>Nice budget hotel for your stay in Paris..</td>\n",
       "      <td>2020-09-19 15:03:56.791618</td>\n",
       "      <td>ibis saint martin</td>\n",
       "    </tr>\n",
       "    <tr>\n",
       "      <td>3</td>\n",
       "      <td>google</td>\n",
       "      <td>5 stars</td>\n",
       "      <td>I was in Paris from 8 to 13 August at this fac...</td>\n",
       "      <td>2019-01-18 15:03:56.791656</td>\n",
       "      <td>ibis saint martin</td>\n",
       "    </tr>\n",
       "    <tr>\n",
       "      <td>4</td>\n",
       "      <td>google</td>\n",
       "      <td>1 stars</td>\n",
       "      <td>I stayed there for 3 nights. Besides the poor ...</td>\n",
       "      <td>2020-08-20 15:03:56.791677</td>\n",
       "      <td>ibis saint martin</td>\n",
       "    </tr>\n",
       "    <tr>\n",
       "      <td>5</td>\n",
       "      <td>google</td>\n",
       "      <td>1 stars</td>\n",
       "      <td>Attention half mouth. Very expensive room. Tin...</td>\n",
       "      <td>2020-01-18 15:03:56.791703</td>\n",
       "      <td>ibis saint martin</td>\n",
       "    </tr>\n",
       "    <tr>\n",
       "      <td>6</td>\n",
       "      <td>google</td>\n",
       "      <td>4 stars</td>\n",
       "      <td>NaN</td>\n",
       "      <td>2020-01-18 15:03:56.791725</td>\n",
       "      <td>ibis saint martin</td>\n",
       "    </tr>\n",
       "    <tr>\n",
       "      <td>7</td>\n",
       "      <td>google</td>\n",
       "      <td>4 stars</td>\n",
       "      <td>Very clean,good breakfast,comfort room,many re...</td>\n",
       "      <td>2020-01-18 15:03:56.791848</td>\n",
       "      <td>ibis saint martin</td>\n",
       "    </tr>\n",
       "    <tr>\n",
       "      <td>8</td>\n",
       "      <td>google</td>\n",
       "      <td>5 stars</td>\n",
       "      <td>NaN</td>\n",
       "      <td>2020-01-18 15:03:56.791871</td>\n",
       "      <td>ibis saint martin</td>\n",
       "    </tr>\n",
       "    <tr>\n",
       "      <td>9</td>\n",
       "      <td>google</td>\n",
       "      <td>2 stars</td>\n",
       "      <td>NaN</td>\n",
       "      <td>2019-01-18 15:03:56.791889</td>\n",
       "      <td>ibis saint martin</td>\n",
       "    </tr>\n",
       "  </tbody>\n",
       "</table>\n",
       "</div>"
      ],
      "text/plain": [
       "   source   Rating                                         ReviewText  \\\n",
       "0  google  3 stars                                                NaN   \n",
       "1  google  5 stars  Good hotel, not close to the sites of interest...   \n",
       "2  google  5 stars         Nice budget hotel for your stay in Paris..   \n",
       "3  google  5 stars  I was in Paris from 8 to 13 August at this fac...   \n",
       "4  google  1 stars  I stayed there for 3 nights. Besides the poor ...   \n",
       "5  google  1 stars  Attention half mouth. Very expensive room. Tin...   \n",
       "6  google  4 stars                                                NaN   \n",
       "7  google  4 stars  Very clean,good breakfast,comfort room,many re...   \n",
       "8  google  5 stars                                                NaN   \n",
       "9  google  2 stars                                                NaN   \n",
       "\n",
       "                   PUBLISH_TS       organisation  \n",
       "0  2020-01-18 15:03:56.791524  ibis saint martin  \n",
       "1  2020-01-18 15:03:56.791590  ibis saint martin  \n",
       "2  2020-09-19 15:03:56.791618  ibis saint martin  \n",
       "3  2019-01-18 15:03:56.791656  ibis saint martin  \n",
       "4  2020-08-20 15:03:56.791677  ibis saint martin  \n",
       "5  2020-01-18 15:03:56.791703  ibis saint martin  \n",
       "6  2020-01-18 15:03:56.791725  ibis saint martin  \n",
       "7  2020-01-18 15:03:56.791848  ibis saint martin  \n",
       "8  2020-01-18 15:03:56.791871  ibis saint martin  \n",
       "9  2019-01-18 15:03:56.791889  ibis saint martin  "
      ]
     },
     "execution_count": 5,
     "metadata": {},
     "output_type": "execute_result"
    }
   ],
   "source": [
    "data.head(10)"
   ]
  },
  {
   "cell_type": "code",
   "execution_count": 6,
   "metadata": {},
   "outputs": [
    {
     "data": {
      "text/plain": [
       "4 stars    818\n",
       "5 stars    541\n",
       "3 stars    529\n",
       "2 stars    169\n",
       "1 stars    113\n",
       "Name: Rating, dtype: int64"
      ]
     },
     "execution_count": 6,
     "metadata": {},
     "output_type": "execute_result"
    }
   ],
   "source": [
    "data.Rating.value_counts()"
   ]
  },
  {
   "cell_type": "code",
   "execution_count": 7,
   "metadata": {},
   "outputs": [
    {
     "data": {
      "text/plain": [
       "source            0\n",
       "Rating          152\n",
       "ReviewText      700\n",
       "PUBLISH_TS        0\n",
       "organisation      0\n",
       "dtype: int64"
      ]
     },
     "execution_count": 7,
     "metadata": {},
     "output_type": "execute_result"
    }
   ],
   "source": [
    "data.isnull().sum(axis = 0)"
   ]
  },
  {
   "cell_type": "code",
   "execution_count": 8,
   "metadata": {},
   "outputs": [],
   "source": [
    "data.dropna(inplace=True)"
   ]
  },
  {
   "cell_type": "code",
   "execution_count": 9,
   "metadata": {},
   "outputs": [
    {
     "data": {
      "text/plain": [
       "(1470, 5)"
      ]
     },
     "execution_count": 9,
     "metadata": {},
     "output_type": "execute_result"
    }
   ],
   "source": [
    "data.shape"
   ]
  },
  {
   "cell_type": "code",
   "execution_count": 10,
   "metadata": {},
   "outputs": [
    {
     "data": {
      "text/html": [
       "<div>\n",
       "<style scoped>\n",
       "    .dataframe tbody tr th:only-of-type {\n",
       "        vertical-align: middle;\n",
       "    }\n",
       "\n",
       "    .dataframe tbody tr th {\n",
       "        vertical-align: top;\n",
       "    }\n",
       "\n",
       "    .dataframe thead th {\n",
       "        text-align: right;\n",
       "    }\n",
       "</style>\n",
       "<table border=\"1\" class=\"dataframe\">\n",
       "  <thead>\n",
       "    <tr style=\"text-align: right;\">\n",
       "      <th></th>\n",
       "      <th>Rating</th>\n",
       "      <th>ReviewText</th>\n",
       "    </tr>\n",
       "  </thead>\n",
       "  <tbody>\n",
       "    <tr>\n",
       "      <td>1</td>\n",
       "      <td>5 stars</td>\n",
       "      <td>Good hotel, not close to the sites of interest...</td>\n",
       "    </tr>\n",
       "    <tr>\n",
       "      <td>2</td>\n",
       "      <td>5 stars</td>\n",
       "      <td>Nice budget hotel for your stay in Paris..</td>\n",
       "    </tr>\n",
       "    <tr>\n",
       "      <td>3</td>\n",
       "      <td>5 stars</td>\n",
       "      <td>I was in Paris from 8 to 13 August at this fac...</td>\n",
       "    </tr>\n",
       "    <tr>\n",
       "      <td>4</td>\n",
       "      <td>1 stars</td>\n",
       "      <td>I stayed there for 3 nights. Besides the poor ...</td>\n",
       "    </tr>\n",
       "    <tr>\n",
       "      <td>5</td>\n",
       "      <td>1 stars</td>\n",
       "      <td>Attention half mouth. Very expensive room. Tin...</td>\n",
       "    </tr>\n",
       "  </tbody>\n",
       "</table>\n",
       "</div>"
      ],
      "text/plain": [
       "    Rating                                         ReviewText\n",
       "1  5 stars  Good hotel, not close to the sites of interest...\n",
       "2  5 stars         Nice budget hotel for your stay in Paris..\n",
       "3  5 stars  I was in Paris from 8 to 13 August at this fac...\n",
       "4  1 stars  I stayed there for 3 nights. Besides the poor ...\n",
       "5  1 stars  Attention half mouth. Very expensive room. Tin..."
      ]
     },
     "execution_count": 10,
     "metadata": {},
     "output_type": "execute_result"
    }
   ],
   "source": [
    "mod_data = data.iloc[:,1:3]\n",
    "\n",
    "mod_data.head()"
   ]
  },
  {
   "cell_type": "code",
   "execution_count": 11,
   "metadata": {},
   "outputs": [
    {
     "name": "stderr",
     "output_type": "stream",
     "text": [
      "C:\\Users\\DELL\\Anaconda3\\lib\\site-packages\\ipykernel_launcher.py:2: SettingWithCopyWarning: \n",
      "A value is trying to be set on a copy of a slice from a DataFrame.\n",
      "Try using .loc[row_indexer,col_indexer] = value instead\n",
      "\n",
      "See the caveats in the documentation: http://pandas.pydata.org/pandas-docs/stable/user_guide/indexing.html#returning-a-view-versus-a-copy\n",
      "  \n"
     ]
    }
   ],
   "source": [
    "# Remove Units from Value List\n",
    "mod_data['Rating'] = mod_data['Rating'].map(lambda x: str(x)[:1:])"
   ]
  },
  {
   "cell_type": "code",
   "execution_count": 12,
   "metadata": {},
   "outputs": [
    {
     "name": "stdout",
     "output_type": "stream",
     "text": [
      "     Rating                                         ReviewText\n",
      "1         5  Good hotel, not close to the sites of interest...\n",
      "2         5         Nice budget hotel for your stay in Paris..\n",
      "3         5  I was in Paris from 8 to 13 August at this fac...\n",
      "4         1  I stayed there for 3 nights. Besides the poor ...\n",
      "5         1  Attention half mouth. Very expensive room. Tin...\n",
      "...     ...                                                ...\n",
      "2317      4  We stayed for 4 nights, its a nice hotel, very...\n",
      "2318      1  We were robbed $300 at this hotel and staff de...\n",
      "2319      3  We chose this hotel for the comparatively reas...\n",
      "2320      3  We travel often between France and England, an...\n",
      "2321      1  Me and my girlfriend stayed at the hotel from ...\n",
      "\n",
      "[1470 rows x 2 columns]\n"
     ]
    }
   ],
   "source": [
    "print(mod_data)"
   ]
  },
  {
   "cell_type": "code",
   "execution_count": 13,
   "metadata": {},
   "outputs": [
    {
     "name": "stderr",
     "output_type": "stream",
     "text": [
      "C:\\Users\\DELL\\Anaconda3\\lib\\site-packages\\ipykernel_launcher.py:2: SettingWithCopyWarning: \n",
      "A value is trying to be set on a copy of a slice from a DataFrame.\n",
      "Try using .loc[row_indexer,col_indexer] = value instead\n",
      "\n",
      "See the caveats in the documentation: http://pandas.pydata.org/pandas-docs/stable/user_guide/indexing.html#returning-a-view-versus-a-copy\n",
      "  \n"
     ]
    }
   ],
   "source": [
    "# create the label\n",
    "mod_data[\"Label\"] = mod_data[\"Rating\"].apply(lambda x: 3 if x < str(3)\n",
    "                                             else (6 if x < str(5) else 8))"
   ]
  },
  {
   "cell_type": "code",
   "execution_count": 14,
   "metadata": {},
   "outputs": [
    {
     "name": "stdout",
     "output_type": "stream",
     "text": [
      "     Rating                                         ReviewText  Label\n",
      "1         5  Good hotel, not close to the sites of interest...      8\n",
      "2         5         Nice budget hotel for your stay in Paris..      8\n",
      "3         5  I was in Paris from 8 to 13 August at this fac...      8\n",
      "4         1  I stayed there for 3 nights. Besides the poor ...      3\n",
      "5         1  Attention half mouth. Very expensive room. Tin...      3\n",
      "...     ...                                                ...    ...\n",
      "2317      4  We stayed for 4 nights, its a nice hotel, very...      6\n",
      "2318      1  We were robbed $300 at this hotel and staff de...      3\n",
      "2319      3  We chose this hotel for the comparatively reas...      6\n",
      "2320      3  We travel often between France and England, an...      6\n",
      "2321      1  Me and my girlfriend stayed at the hotel from ...      3\n",
      "\n",
      "[1470 rows x 3 columns]\n"
     ]
    }
   ],
   "source": [
    "print(mod_data)\n",
    "df = mod_data.iloc[:,1:3]"
   ]
  },
  {
   "cell_type": "code",
   "execution_count": 15,
   "metadata": {},
   "outputs": [
    {
     "data": {
      "text/html": [
       "<div>\n",
       "<style scoped>\n",
       "    .dataframe tbody tr th:only-of-type {\n",
       "        vertical-align: middle;\n",
       "    }\n",
       "\n",
       "    .dataframe tbody tr th {\n",
       "        vertical-align: top;\n",
       "    }\n",
       "\n",
       "    .dataframe thead th {\n",
       "        text-align: right;\n",
       "    }\n",
       "</style>\n",
       "<table border=\"1\" class=\"dataframe\">\n",
       "  <thead>\n",
       "    <tr style=\"text-align: right;\">\n",
       "      <th></th>\n",
       "      <th>ReviewText</th>\n",
       "      <th>Label</th>\n",
       "    </tr>\n",
       "  </thead>\n",
       "  <tbody>\n",
       "    <tr>\n",
       "      <td>1</td>\n",
       "      <td>Good hotel, not close to the sites of interest...</td>\n",
       "      <td>8</td>\n",
       "    </tr>\n",
       "    <tr>\n",
       "      <td>2</td>\n",
       "      <td>Nice budget hotel for your stay in Paris..</td>\n",
       "      <td>8</td>\n",
       "    </tr>\n",
       "    <tr>\n",
       "      <td>3</td>\n",
       "      <td>I was in Paris from 8 to 13 August at this fac...</td>\n",
       "      <td>8</td>\n",
       "    </tr>\n",
       "    <tr>\n",
       "      <td>4</td>\n",
       "      <td>I stayed there for 3 nights. Besides the poor ...</td>\n",
       "      <td>3</td>\n",
       "    </tr>\n",
       "    <tr>\n",
       "      <td>5</td>\n",
       "      <td>Attention half mouth. Very expensive room. Tin...</td>\n",
       "      <td>3</td>\n",
       "    </tr>\n",
       "  </tbody>\n",
       "</table>\n",
       "</div>"
      ],
      "text/plain": [
       "                                          ReviewText  Label\n",
       "1  Good hotel, not close to the sites of interest...      8\n",
       "2         Nice budget hotel for your stay in Paris..      8\n",
       "3  I was in Paris from 8 to 13 August at this fac...      8\n",
       "4  I stayed there for 3 nights. Besides the poor ...      3\n",
       "5  Attention half mouth. Very expensive room. Tin...      3"
      ]
     },
     "execution_count": 15,
     "metadata": {},
     "output_type": "execute_result"
    }
   ],
   "source": [
    "mod_data['Label'].unique()\n",
    "df.head()"
   ]
  },
  {
   "cell_type": "code",
   "execution_count": null,
   "metadata": {},
   "outputs": [],
   "source": []
  },
  {
   "cell_type": "code",
   "execution_count": 16,
   "metadata": {},
   "outputs": [],
   "source": [
    "# Removing punctuations\n",
    "df.replace(\"[^a-zA-Z]\",\" \",regex=True, inplace=True)"
   ]
  },
  {
   "cell_type": "code",
   "execution_count": 17,
   "metadata": {},
   "outputs": [
    {
     "name": "stdout",
     "output_type": "stream",
     "text": [
      "(1029, 2) (441, 2)\n"
     ]
    }
   ],
   "source": [
    "train, test = train_test_split(df, test_size=0.3, random_state=42)\n",
    "print(train.shape,test.shape)"
   ]
  },
  {
   "cell_type": "code",
   "execution_count": 18,
   "metadata": {},
   "outputs": [
    {
     "data": {
      "text/plain": [
       "(1029, 2)"
      ]
     },
     "execution_count": 18,
     "metadata": {},
     "output_type": "execute_result"
    }
   ],
   "source": [
    "train.shape"
   ]
  },
  {
   "cell_type": "code",
   "execution_count": 19,
   "metadata": {},
   "outputs": [
    {
     "name": "stderr",
     "output_type": "stream",
     "text": [
      "[nltk_data] Downloading package stopwords to\n",
      "[nltk_data]     C:\\Users\\DELL\\AppData\\Roaming\\nltk_data...\n",
      "[nltk_data]   Package stopwords is already up-to-date!\n"
     ]
    }
   ],
   "source": [
    "nltk.download('stopwords')\n",
    "eng_stops = set(stopwords.words(\"english\"))"
   ]
  },
  {
   "cell_type": "code",
   "execution_count": 20,
   "metadata": {},
   "outputs": [],
   "source": [
    "####################################"
   ]
  },
  {
   "cell_type": "code",
   "execution_count": null,
   "metadata": {},
   "outputs": [],
   "source": []
  },
  {
   "cell_type": "code",
   "execution_count": null,
   "metadata": {},
   "outputs": [],
   "source": []
  },
  {
   "cell_type": "code",
   "execution_count": 21,
   "metadata": {},
   "outputs": [],
   "source": [
    "## BAG OF WORDS\n",
    "countvector=CountVectorizer(ngram_range=(2,2))\n",
    "traindataset=countvector.fit_transform(train['ReviewText'])"
   ]
  },
  {
   "cell_type": "code",
   "execution_count": 22,
   "metadata": {
    "scrolled": true
   },
   "outputs": [
    {
     "name": "stdout",
     "output_type": "stream",
     "text": [
      "<class 'scipy.sparse.csr.csr_matrix'>\n"
     ]
    }
   ],
   "source": [
    "# print(countvector.get_feature_names())\n",
    "traindataset.shape\n",
    "print(type(traindataset))"
   ]
  },
  {
   "cell_type": "code",
   "execution_count": 23,
   "metadata": {},
   "outputs": [],
   "source": [
    "# implement RandomForest Classifier......."
   ]
  },
  {
   "cell_type": "code",
   "execution_count": 40,
   "metadata": {},
   "outputs": [
    {
     "data": {
      "text/plain": [
       "RandomForestClassifier(bootstrap=True, class_weight=None, criterion='entropy',\n",
       "                       max_depth=None, max_features='auto', max_leaf_nodes=None,\n",
       "                       min_impurity_decrease=0.0, min_impurity_split=None,\n",
       "                       min_samples_leaf=1, min_samples_split=2,\n",
       "                       min_weight_fraction_leaf=0.0, n_estimators=200,\n",
       "                       n_jobs=None, oob_score=False, random_state=None,\n",
       "                       verbose=0, warm_start=False)"
      ]
     },
     "execution_count": 40,
     "metadata": {},
     "output_type": "execute_result"
    }
   ],
   "source": [
    "randomclassifier=RandomForestClassifier(n_estimators=200,criterion='entropy')\n",
    "randomclassifier.fit(traindataset,train['Label'])"
   ]
  },
  {
   "cell_type": "code",
   "execution_count": 41,
   "metadata": {},
   "outputs": [],
   "source": [
    "## Predict for the Test Dataset\n",
    "test_dataset = countvector.transform(test['ReviewText'])\n",
    "predictions = randomclassifier.predict(test_dataset)"
   ]
  },
  {
   "cell_type": "code",
   "execution_count": 42,
   "metadata": {},
   "outputs": [
    {
     "name": "stdout",
     "output_type": "stream",
     "text": [
      "[6 6 6 6 6 6 6 3 6 6 6 6 6 6 6 6 6 6 6 6 8 6 6 6 6 6 6 6 6 6 6 6 6 6 6 6 6\n",
      " 6 6 6 6 6 6 6 6 6 6 6 6 6 6 6 6 6 6 6 6 6 6 6 6 6 6 6 6 6 6 6 6 6 6 6 6 6\n",
      " 6 6 6 6 6 6 6 6 6 6 3 6 6 6 6 6 6 6 6 6 6 6 6 6 6 6 6 6 6 6 6 6 6 6 6 6 6\n",
      " 6 6 8 6 6 6 6 6 6 6 6 6 6 6 6 6 6 6 6 6 6 8 6 6 6 6 6 6 6 6 6 6 6 6 6 6 6\n",
      " 6 6 6 6 6 6 6 6 6 6 6 3 6 6 6 6 6 8 6 6 6 8 8 6 6 6 6 6 6 6 6 6 6 6 6 6 8\n",
      " 6 6 8 6 6 6 8 6 6 6 6 6 6 6 6 8 6 6 6 6 6 6 6 6 6 6 6 6 6 6 6 6 6 6 6 6 6\n",
      " 6 6 6 6 6 6 6 6 6 6 6 6 6 6 6 6 6 6 6 6 6 6 6 6 6 6 6 6 6 6 6 6 6 6 6 6 6\n",
      " 6 6 6 6 6 6 6 6 6 6 6 3 6 6 6 6 6 6 6 6 6 6 6 6 6 6 6 6 6 6 6 6 3 6 6 6 6\n",
      " 6 6 6 6 6 6 6 6 6 6 6 6 6 6 6 6 6 6 6 6 6 6 6 6 6 6 6 6 6 6 6 6 8 6 6 6 6\n",
      " 6 6 6 6 6 8 8 6 6 6 6 6 6 6 6 6 6 8 6 6 6 6 6 6 6 6 8 6 6 6 6 6 6 6 6 6 6\n",
      " 6 6 3 6 6 6 6 6 6 6 3 6 6 6 6 8 6 6 6 6 6 8 6 6 6 6 6 6 6 6 6 6 6 6 6 6 6\n",
      " 6 6 6 6 6 6 6 6 6 6 6 6 6 6 6 6 6 6 6 6 6 6 6 6 6 6 6 6 6 6 6 8 6 6]\n"
     ]
    }
   ],
   "source": [
    "print(predictions)"
   ]
  },
  {
   "cell_type": "code",
   "execution_count": 43,
   "metadata": {},
   "outputs": [],
   "source": [
    "## Import library to check accuracy\n",
    "from sklearn.metrics import classification_report,confusion_matrix,accuracy_score"
   ]
  },
  {
   "cell_type": "code",
   "execution_count": 61,
   "metadata": {},
   "outputs": [
    {
     "name": "stdout",
     "output_type": "stream",
     "text": [
      "[[  2  70   0]\n",
      " [  4 253  10]\n",
      " [  1  93   8]]\n",
      "0.5963718820861678\n",
      "              precision    recall  f1-score   support\n",
      "\n",
      "           3       0.29      0.03      0.05        72\n",
      "           6       0.61      0.95      0.74       267\n",
      "           8       0.44      0.08      0.13       102\n",
      "\n",
      "    accuracy                           0.60       441\n",
      "   macro avg       0.45      0.35      0.31       441\n",
      "weighted avg       0.52      0.60      0.49       441\n",
      "\n"
     ]
    }
   ],
   "source": [
    "matrix=confusion_matrix(test['Label'],predictions)\n",
    "print(matrix)\n",
    "score=accuracy_score(test['Label'],predictions)\n",
    "print(score)\n",
    "report=classification_report(test['Label'],predictions)\n",
    "print(report)"
   ]
  },
  {
   "cell_type": "code",
   "execution_count": null,
   "metadata": {},
   "outputs": [],
   "source": []
  },
  {
   "cell_type": "code",
   "execution_count": 29,
   "metadata": {},
   "outputs": [
    {
     "data": {
      "text/plain": [
       "MultinomialNB(alpha=1.0, class_prior=None, fit_prior=True)"
      ]
     },
     "execution_count": 29,
     "metadata": {},
     "output_type": "execute_result"
    }
   ],
   "source": [
    "from sklearn.naive_bayes import MultinomialNB\n",
    "\n",
    "naive = MultinomialNB()\n",
    "naive.fit(traindataset, train['Label'])"
   ]
  },
  {
   "cell_type": "code",
   "execution_count": 30,
   "metadata": {},
   "outputs": [
    {
     "data": {
      "text/plain": [
       "array([6, 8, 6, 6, 6, 6, 6, 6, 6, 6, 6, 6, 6, 6, 6, 6, 6, 6, 6, 3, 6, 6,\n",
       "       6, 6, 6, 6, 6, 6, 6, 6, 6, 6, 6, 6, 6, 6, 6, 6, 6, 6, 6, 6, 6, 6,\n",
       "       6, 6, 6, 6, 6, 6, 6, 8, 6, 6, 3, 6, 6, 6, 6, 6, 3, 6, 6, 6, 6, 6,\n",
       "       8, 6, 6, 3, 6, 6, 6, 6, 6, 6, 6, 8, 6, 6, 6, 6, 6, 6, 6, 6, 6, 6,\n",
       "       6, 6, 6, 6, 6, 6, 6, 6, 6, 6, 6, 6, 6, 6, 6, 6, 6, 6, 6, 6, 6, 6,\n",
       "       6, 6, 6, 6, 6, 6, 6, 6, 6, 6, 6, 6, 3, 6, 6, 6, 6, 6, 8, 6, 6, 6,\n",
       "       6, 6, 6, 6, 6, 6, 6, 6, 6, 6, 6, 6, 6, 6, 6, 6, 6, 6, 6, 6, 6, 6,\n",
       "       6, 6, 6, 6, 6, 6, 6, 3, 6, 6, 6, 6, 6, 6, 6, 6, 6, 6, 6, 6, 6, 6,\n",
       "       6, 6, 6, 6, 6, 6, 6, 6, 8, 6, 6, 8, 6, 6, 6, 6, 6, 6, 6, 6, 6, 6,\n",
       "       6, 6, 6, 6, 6, 6, 6, 8, 6, 6, 6, 6, 6, 6, 6, 6, 6, 6, 6, 6, 6, 6,\n",
       "       6, 6, 6, 6, 6, 6, 6, 6, 6, 6, 6, 6, 6, 6, 6, 6, 6, 6, 6, 6, 6, 6,\n",
       "       6, 6, 6, 6, 6, 6, 6, 6, 6, 6, 8, 6, 6, 6, 6, 6, 6, 6, 6, 6, 6, 6,\n",
       "       6, 6, 6, 6, 6, 6, 6, 6, 6, 6, 6, 3, 6, 6, 6, 6, 6, 6, 6, 6, 6, 6,\n",
       "       6, 6, 6, 6, 6, 6, 6, 6, 6, 6, 6, 6, 6, 6, 6, 6, 6, 6, 6, 6, 6, 6,\n",
       "       6, 6, 6, 6, 6, 6, 6, 6, 6, 6, 6, 6, 6, 8, 6, 6, 6, 6, 6, 6, 6, 6,\n",
       "       6, 3, 6, 6, 6, 6, 6, 6, 6, 6, 6, 6, 6, 6, 6, 6, 6, 6, 6, 6, 6, 6,\n",
       "       6, 6, 6, 6, 6, 6, 6, 6, 6, 6, 6, 6, 6, 6, 6, 6, 6, 6, 6, 6, 6, 6,\n",
       "       6, 6, 6, 6, 6, 6, 6, 6, 6, 6, 6, 6, 6, 6, 6, 6, 6, 6, 6, 6, 6, 6,\n",
       "       6, 6, 6, 6, 6, 6, 6, 6, 6, 6, 6, 6, 6, 6, 6, 6, 6, 6, 6, 6, 6, 6,\n",
       "       6, 6, 6, 6, 6, 6, 6, 8, 6, 8, 6, 6, 6, 6, 6, 6, 6, 6, 6, 6, 8, 6,\n",
       "       6], dtype=int64)"
      ]
     },
     "execution_count": 30,
     "metadata": {},
     "output_type": "execute_result"
    }
   ],
   "source": [
    "predictions = naive.predict(test_dataset)\n",
    "predictions"
   ]
  },
  {
   "cell_type": "code",
   "execution_count": 31,
   "metadata": {},
   "outputs": [
    {
     "name": "stdout",
     "output_type": "stream",
     "text": [
      "[[  7  65   0]\n",
      " [  1 259   7]\n",
      " [  0  96   6]]\n",
      "0.6167800453514739\n",
      "              precision    recall  f1-score   support\n",
      "\n",
      "           3       0.88      0.10      0.18        72\n",
      "           6       0.62      0.97      0.75       267\n",
      "           8       0.46      0.06      0.10       102\n",
      "\n",
      "    accuracy                           0.62       441\n",
      "   macro avg       0.65      0.38      0.34       441\n",
      "weighted avg       0.62      0.62      0.51       441\n",
      "\n"
     ]
    }
   ],
   "source": [
    "matrix = confusion_matrix(test['Label'], predictions)\n",
    "print(matrix)\n",
    "score = accuracy_score(test['Label'], predictions)\n",
    "print(score)\n",
    "report = classification_report(test['Label'], predictions)\n",
    "print(report)"
   ]
  },
  {
   "cell_type": "code",
   "execution_count": null,
   "metadata": {},
   "outputs": [],
   "source": []
  },
  {
   "cell_type": "code",
   "execution_count": null,
   "metadata": {},
   "outputs": [],
   "source": []
  }
 ],
 "metadata": {
  "kernelspec": {
   "display_name": "Python 3",
   "language": "python",
   "name": "python3"
  },
  "language_info": {
   "codemirror_mode": {
    "name": "ipython",
    "version": 3
   },
   "file_extension": ".py",
   "mimetype": "text/x-python",
   "name": "python",
   "nbconvert_exporter": "python",
   "pygments_lexer": "ipython3",
   "version": "3.7.4"
  }
 },
 "nbformat": 4,
 "nbformat_minor": 2
}
